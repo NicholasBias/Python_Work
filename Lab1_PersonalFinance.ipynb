{
 "cells": [
  {
   "cell_type": "markdown",
   "metadata": {},
   "source": [
    "# Python Activity: Personal Finance\n",
    "Nick Bias"
   ]
  },
  {
   "cell_type": "markdown",
   "metadata": {},
   "source": [
    "#### What were your reasons for pursuing this MSBA program here at Cal Poly? Did you come straight from another academic program (Bachelors, Masters, etc.) or were you working before this? What program(s) or job did you come from?"
   ]
  },
  {
   "cell_type": "markdown",
   "metadata": {},
   "source": [
    "My undergraduate degree was in Computer Information Systems with an emphasis in Business Intelligence at Cal Poly Pomona. The degree was basically what we are learning in MSBA, but we mainly used Python. Lots of Linear and Logistic Regression. However, halfway through my degree, when we really started to learn Business Intelligence, the COVID-19 pandemic started. Because of this I did not learn everything in the best setting and do not trust my knowledge. My parents pressured me into getting a Masters degree, and I found out that Cal Poly Pomona had the same 1 year MSBA program, but right before I applied I found out Cal Poly SLO also had the program and I always wanted to go here. "
   ]
  },
  {
   "cell_type": "markdown",
   "metadata": {},
   "source": [
    "#### What job or career do you hope to pursue after graduating from this MSBA program? Do you have particular industries or companies in mind? If so, what are they? Do you have particular places in mind that you'd like to live or work? Why are you interested in these companies, etc.?"
   ]
  },
  {
   "cell_type": "markdown",
   "metadata": {},
   "source": [
    "As of right now, I do not have a job or career I plan on pursuing. I have no working experience, so I do not know how the working world will be. I plan to start working where ever I am hired after graduation. However, I want to be in the Entertainment industry or Healthcare industry. My mom works at Cedars Sinai Medical Center and I have always wanted to work there. There are many different departments and I want to help people instead of making someone else money in a business. I am also interested in the entertainment industry because I have a minor in Theatre and would want to be close to a field I enjoy. "
   ]
  },
  {
   "cell_type": "markdown",
   "metadata": {},
   "source": [
    "### Personal Finance "
   ]
  },
  {
   "cell_type": "markdown",
   "metadata": {},
   "source": [
    "#### What is your estimate of the cost-of-living in your desired place to live, per month? You should justify this estimate by citing online sources or other relevant information. You should also break this down into component costs (e.g. housing, utilities, car, gas, internet, food, entertainment, etc.) as much as you can. "
   ]
  },
  {
   "cell_type": "markdown",
   "metadata": {},
   "source": [
    "According to RentCafe.com and Zumper.com the average LA Apartment is 790 sq. ft and **Rent costs** about **$2,500**. I am not sure as to which part of LA I will be living in, and rent varies depending on the location, so I will be using this average. \n",
    "\n",
    "https://www.rentcafe.com/average-rent-market-trends/us/ca/los-angeles/\n",
    "https://www.zumper.com/rent-research/los-angeles-ca"
   ]
  },
  {
   "cell_type": "markdown",
   "metadata": {},
   "source": [
    "According to Bungalow.com and SmartAsset.com the average **Utilities costs** in LA is about **$130**\n",
    "\n",
    "https://bungalow.com/articles/what-is-the-real-cost-of-living-in-los-angeles-ca\n",
    "https://smartasset.com/mortgage/what-is-the-true-cost-of-living-in-la\n",
    "https://www.losangeleshomes.com/blog/los-angeles-cost-of-living-guide/#utilities"
   ]
  },
  {
   "cell_type": "markdown",
   "metadata": {},
   "source": [
    "According to The Zebra, a *annual premium* for AAA **car insurance is $2,500**.\n",
    "\n",
    "https://www.caranddriver.com/car-insurance/a35873684/average-cost-of-car-insurance-los-angeles/"
   ]
  },
  {
   "cell_type": "markdown",
   "metadata": {},
   "source": [
    "I have a 2013 Toyota Corolla. It has an MPG of up to *27 city and 34 highway*. According to FuelEconomy.gov the **Annual Fuel Cost is $2,250**\n",
    "\n",
    "https://www.fueleconomy.gov/feg/PowerSearch.do?action=noform&path=1&year1=2013&year2=2013&make=Toyota&model=Corolla&srchtyp=ymm"
   ]
  },
  {
   "cell_type": "markdown",
   "metadata": {},
   "source": [
    "According to ISP.com, an Xfinity Internet 15 - 2000 MBPS plan in CA *starts at \\$29.99 a month for 12 months*. This most likely means it will increase after the first year. So for this reason the price for internet will be set to **\\$40**\n",
    "\n",
    "https://www.isp.com/near-me/ca/"
   ]
  },
  {
   "cell_type": "markdown",
   "metadata": {},
   "source": [
    "I usually go to the grocery store every *2-weeks* and each time I spend *about \\$100*, so average monthly food expensize will be **\\$200**"
   ]
  },
  {
   "cell_type": "markdown",
   "metadata": {},
   "source": [
    "On a weekly basis, I spend *about \\$50* on entertainment. LA is expensive, so I will say that I plan on spending **about \\$100 a week** since i will be working"
   ]
  },
  {
   "cell_type": "markdown",
   "metadata": {},
   "source": [
    "I believe I should have *\\$1,000 of savings* per month\n",
    "\n",
    "According to HealthMarkets.com **CA health insurance costs around \\\\$500 a month**. \n",
    "I would also like to put away **\\\\$500 more a month to have an emergency fund**. \n",
    "\n",
    "https://www.healthmarkets.com/content/health-insurance-cost-per-month"
   ]
  },
  {
   "cell_type": "markdown",
   "metadata": {},
   "source": [
    "### Monthly Cost of Living in LA"
   ]
  },
  {
   "cell_type": "code",
   "execution_count": 1,
   "metadata": {},
   "outputs": [],
   "source": [
    "rent = 2500\n",
    "utilities = 130\n",
    "car_insurance = 2500 / 12\n",
    "# mpg = (27+34)/2\n",
    "# gas = 5.856 \n",
    "# tank = mpg * gas\n",
    "gas_avg = 2250 / 12\n",
    "internet = 40\n",
    "food = 200\n",
    "fun = 100 * 4\n",
    "health = 500\n",
    "emergency = 500\n",
    "savings = 1000"
   ]
  },
  {
   "cell_type": "code",
   "execution_count": 2,
   "metadata": {},
   "outputs": [
    {
     "name": "stdout",
     "output_type": "stream",
     "text": [
      "5666\n"
     ]
    }
   ],
   "source": [
    "monthly_col = rent + utilities + car_insurance + gas_avg + internet + food + fun + health + emergency + savings\n",
    "monthly_col = round(monthly_col)\n",
    "print(monthly_col)"
   ]
  },
  {
   "cell_type": "markdown",
   "metadata": {},
   "source": [
    "#### What is the annual salary you need to afford the costs you outlined above? This should, in essence, be the minimum salary you need to afford the life you could live happily (you could probably survive on less, but let's not get too detailed here). Be careful to consider whether you're taking taxes into account! We don't need to get too detailed here either, but you should try to estimate what your actual take-home pay is versus the gross salary that you might be presented with in the offer from your employer."
   ]
  },
  {
   "cell_type": "code",
   "execution_count": 3,
   "metadata": {},
   "outputs": [
    {
     "name": "stdout",
     "output_type": "stream",
     "text": [
      "67992\n"
     ]
    }
   ],
   "source": [
    "annual_col = monthly_col * 12\n",
    "print(annual_col)"
   ]
  },
  {
   "cell_type": "markdown",
   "metadata": {},
   "source": [
    "The CA Tax Rate for income between \\$61,215 - \\\\$312,686 is 9.3%. \n",
    "\n",
    "The Federal Tax Rate for income between \\\\$86,375 - \\\\$164,926 is 24%\n",
    "\n",
    "https://www.nerdwallet.com/article/taxes/california-state-tax\n",
    "https://www.bankrate.com/taxes/california-state-taxes/\n",
    "https://www.nerdwallet.com/article/taxes/federal-income-tax-brackets"
   ]
  },
  {
   "cell_type": "code",
   "execution_count": 4,
   "metadata": {},
   "outputs": [
    {
     "name": "stdout",
     "output_type": "stream",
     "text": [
      "68034.0\n"
     ]
    }
   ],
   "source": [
    "ca_tax_rate = 0.093\n",
    "fed_tax_rate = 0.24\n",
    "annual_salary_low = 102000\n",
    "annual_tax = (annual_salary_low * ca_tax_rate) + (annual_salary_low * fed_tax_rate) \n",
    "after_tax = annual_salary_low - annual_tax\n",
    "print(after_tax)"
   ]
  },
  {
   "cell_type": "markdown",
   "metadata": {},
   "source": [
    "So, in order to afford the costs I have outlined, I need a minimum salary of about **\\\\$102,000** so I can afford \\\\$68,000 after taxes."
   ]
  },
  {
   "cell_type": "markdown",
   "metadata": {},
   "source": [
    "#### What is the annual salary you WANT? I imagine this will be higher than what was previously mentioned. What do you want the additional income for?"
   ]
  },
  {
   "cell_type": "markdown",
   "metadata": {},
   "source": [
    "I want to take home an annual salary of **over $100,000**. I want this because according to the Cal Poly MS Business Analytics Specifics page, the average salary for graduating students is \\$105,833. If I make this much I will feel successful about my career and life. \n",
    "\n",
    "https://gradbusiness.calpoly.edu/ms-business-analytics/specifics/"
   ]
  },
  {
   "cell_type": "markdown",
   "metadata": {},
   "source": [
    "The CA Tax Rate for income between \\$61,215 - \\\\$312,686 is 9.3%. \n",
    "\n",
    "The Federal Tax Rate for income between \\\\$86,375 - \\\\$164,926 is 24%\n",
    "\n",
    "https://www.nerdwallet.com/article/taxes/california-state-tax\n",
    "https://www.bankrate.com/taxes/california-state-taxes/"
   ]
  },
  {
   "cell_type": "code",
   "execution_count": 5,
   "metadata": {},
   "outputs": [
    {
     "name": "stdout",
     "output_type": "stream",
     "text": [
      "100050.0\n"
     ]
    }
   ],
   "source": [
    "ca_tax_rate = 0.093\n",
    "fed_tax_rate = 0.24\n",
    "annual_salary_high = 150000\n",
    "annual_tax = (annual_salary_high * ca_tax_rate) + (annual_salary_high * fed_tax_rate) \n",
    "after_tax = annual_salary_high - annual_tax\n",
    "print(after_tax)"
   ]
  },
  {
   "cell_type": "markdown",
   "metadata": {},
   "source": [
    "#### Finally, when do you want to retire and with how much money? "
   ]
  },
  {
   "cell_type": "markdown",
   "metadata": {},
   "source": [
    "I want to retire by 60. According to USA Today, \"At age 65, Americans are expected to live an average of another 19.4 years, and the typical retirement-age American spends \\\\$50,220 a year. Multiply those figures, and add in a little extra for unforeseen expenses and additional financial security, and a comfortable retirement costs an estimated \\\\$1,120,408 in the United States.\" I will round this up to **\\\\$1,200,000**. If I start this job when I am 25 I will have **35 years** to get this much money in my retirement fund. \n",
    "\n",
    "https://www.usatoday.com/story/money/2021/02/11/retirement-costs-comfortable-in-every-state-life-expectancy/115432956/"
   ]
  },
  {
   "cell_type": "code",
   "execution_count": 6,
   "metadata": {},
   "outputs": [
    {
     "name": "stdout",
     "output_type": "stream",
     "text": [
      "34286\n"
     ]
    }
   ],
   "source": [
    "retire = 1200000\n",
    "time_left = 60 - 25\n",
    "retire_savings = round(retire / time_left)\n",
    "print(retire_savings)"
   ]
  },
  {
   "cell_type": "code",
   "execution_count": 7,
   "metadata": {},
   "outputs": [
    {
     "name": "stdout",
     "output_type": "stream",
     "text": [
      "32058.0\n"
     ]
    },
    {
     "data": {
      "text/plain": [
       "1122030.0"
      ]
     },
     "execution_count": 7,
     "metadata": {},
     "output_type": "execute_result"
    }
   ],
   "source": [
    "extra = after_tax - annual_col\n",
    "print(extra)\n",
    "time_left * extra"
   ]
  },
  {
   "cell_type": "markdown",
   "metadata": {},
   "source": [
    "I need to be putting **\\$35,000 a year** into a retirement fund to retire with \\$1,200,000 in 35 years. "
   ]
  },
  {
   "cell_type": "markdown",
   "metadata": {},
   "source": [
    "#### What salary do you need to retire when you want with the amount that you specified?"
   ]
  },
  {
   "cell_type": "code",
   "execution_count": 8,
   "metadata": {},
   "outputs": [
    {
     "name": "stdout",
     "output_type": "stream",
     "text": [
      "102384.5\n",
      "34392.5\n",
      "1203737.5\n"
     ]
    }
   ],
   "source": [
    "ca_tax_rate = 0.093\n",
    "fed_tax_rate = 0.24\n",
    "annual_salary_high = 153500\n",
    "annual_tax = (annual_salary_high * ca_tax_rate) + (annual_salary_high * fed_tax_rate) \n",
    "after_tax = annual_salary_high - annual_tax\n",
    "print(after_tax)\n",
    "\n",
    "extra = after_tax - annual_col\n",
    "print(extra)\n",
    "fund = time_left * extra\n",
    "print(fund)"
   ]
  },
  {
   "cell_type": "markdown",
   "metadata": {},
   "source": [
    "If I have an Annual Salary of **at least \\$153,500** I can afford retirement by 60. "
   ]
  },
  {
   "cell_type": "markdown",
   "metadata": {},
   "source": [
    "For this calculation I wanted to find the accual amount of money I will be taking home after taxes, using the equations from earlier. \n",
    "\n",
    "I then subtracted the annual cost of living calculated earlier with this take home after tax salary. This gave me how much extra money I will be making every year. I then multiplied this by how many years I have left until retirement. This way I could set a salary within the income tax bracket and run the chunk to see how much money I will have by retirement. \n",
    "\n",
    "Obviously, I cannot put all my left over money into a retirnement fund, so I will probably needs a larger salary. "
   ]
  },
  {
   "cell_type": "markdown",
   "metadata": {},
   "source": [
    "### Extra Credit Function "
   ]
  },
  {
   "cell_type": "code",
   "execution_count": 13,
   "metadata": {},
   "outputs": [],
   "source": [
    "def perfin (salary, rent, utilities, car_insurance, gas, internet, food, fun, health, emergency, savings, ca_tax_rate = 0.093, fed_tax_rate = 0.24, time_left = 35):\n",
    "    \n",
    "    monthly_col = rent + utilities + car_insurance + gas + internet + food + fun + health + emergency + savings\n",
    "    monthly_col = round(monthly_col)\n",
    "    print(\"Monthly Cost of Living:\")\n",
    "    print(monthly_col)\n",
    "    \n",
    "    annual_col = monthly_col * 12\n",
    "    print(\"Annual Cost of Living:\")\n",
    "    print(annual_col)\n",
    "    \n",
    "    annual_tax = (salary * ca_tax_rate) + (salary * fed_tax_rate) \n",
    "    after_tax = salary - annual_tax\n",
    "    print(\"Annual Salary after Taxes:\")\n",
    "    print(after_tax)\n",
    "\n",
    "    extra = after_tax - annual_col\n",
    "    print(\"Leftover Income:\")\n",
    "    print(extra)\n",
    "    fund = time_left * extra\n",
    "    print(\"Retirement Fund:\")\n",
    "    print(fund)"
   ]
  },
  {
   "cell_type": "code",
   "execution_count": 14,
   "metadata": {},
   "outputs": [
    {
     "name": "stdout",
     "output_type": "stream",
     "text": [
      "Monthly Cost of Living:\n",
      "5670\n",
      "Annual Cost of Living:\n",
      "68040\n",
      "Annual Salary after Taxes:\n",
      "102384.5\n",
      "Leftover Income:\n",
      "34344.5\n",
      "Retirement Fund:\n",
      "1202057.5\n"
     ]
    }
   ],
   "source": [
    "perfin(153500, 2500, 130, 210, 190, 40, 200, 400, 500, 500, 1000)"
   ]
  }
 ],
 "metadata": {
  "kernelspec": {
   "display_name": "Python 3",
   "language": "python",
   "name": "python3"
  },
  "language_info": {
   "codemirror_mode": {
    "name": "ipython",
    "version": 3
   },
   "file_extension": ".py",
   "mimetype": "text/x-python",
   "name": "python",
   "nbconvert_exporter": "python",
   "pygments_lexer": "ipython3",
   "version": "3.8.3"
  }
 },
 "nbformat": 4,
 "nbformat_minor": 4
}
