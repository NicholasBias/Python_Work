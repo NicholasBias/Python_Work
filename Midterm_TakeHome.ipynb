{
 "cells": [
  {
   "cell_type": "markdown",
   "metadata": {},
   "source": [
    "# Midterm - Take Home \n",
    "## Nick Bias\n",
    "### 5/4/22\n",
    "### Libraries "
   ]
  },
  {
   "cell_type": "code",
   "execution_count": 1,
   "metadata": {},
   "outputs": [],
   "source": [
    "import pandas as pd\n",
    "import numpy as np\n",
    "\n",
    "# For Boosting \n",
    "from sklearn.ensemble import GradientBoostingClassifier\n",
    "from xgboost import XGBClassifier\n",
    "from sklearn.ensemble import AdaBoostClassifier\n",
    "from sklearn.preprocessing import LabelEncoder\n",
    "from sklearn.tree import DecisionTreeClassifier\n",
    "\n",
    "# For Comparision Models\n",
    "# compare standalone models for binary classification\n",
    "from sklearn.ensemble import StackingClassifier\n",
    "from sklearn.ensemble import BaggingClassifier\n",
    "from numpy import mean\n",
    "from numpy import std\n",
    "from sklearn.model_selection import cross_val_score\n",
    "from sklearn.model_selection import RepeatedStratifiedKFold\n",
    "from sklearn.linear_model import LogisticRegression\n",
    "from sklearn.neighbors import KNeighborsClassifier\n",
    "#from sklearn.tree import DecisionTreeClassifier\n",
    "from sklearn.svm import SVC\n",
    "from sklearn.naive_bayes import GaussianNB\n",
    "from sklearn.naive_bayes import ComplementNB \n",
    "from sklearn.naive_bayes import BernoulliNB \n",
    "from sklearn.ensemble import RandomForestClassifier\n",
    "\n",
    "# For splitting data into training and testing \n",
    "from sklearn.model_selection import train_test_split\n",
    "# example of calculate the mean absolute error\n",
    "from sklearn.metrics import accuracy_score\n",
    "\n",
    "# For Evaluations \n",
    "from imblearn.under_sampling import RandomUnderSampler\n",
    "from sklearn.model_selection import train_test_split\n",
    "from sklearn.metrics import confusion_matrix, classification_report, roc_curve, roc_auc_score\n",
    "from sklearn.linear_model import LogisticRegression\n",
    "import matplotlib.pyplot as plt\n",
    "from sklearn.inspection import permutation_importance\n",
    "\n",
    "import warnings\n",
    "warnings.filterwarnings('ignore')\n",
    "\n",
    "# So results are same when re-run\n",
    "import random\n",
    "random.seed(10)"
   ]
  },
  {
   "cell_type": "code",
   "execution_count": 2,
   "metadata": {},
   "outputs": [
    {
     "data": {
      "text/html": [
       "<div>\n",
       "<style scoped>\n",
       "    .dataframe tbody tr th:only-of-type {\n",
       "        vertical-align: middle;\n",
       "    }\n",
       "\n",
       "    .dataframe tbody tr th {\n",
       "        vertical-align: top;\n",
       "    }\n",
       "\n",
       "    .dataframe thead th {\n",
       "        text-align: right;\n",
       "    }\n",
       "</style>\n",
       "<table border=\"1\" class=\"dataframe\">\n",
       "  <thead>\n",
       "    <tr style=\"text-align: right;\">\n",
       "      <th></th>\n",
       "      <th>Unnamed: 0</th>\n",
       "      <th>id</th>\n",
       "      <th>Gender</th>\n",
       "      <th>Customer Type</th>\n",
       "      <th>Age</th>\n",
       "      <th>Type of Travel</th>\n",
       "      <th>Class</th>\n",
       "      <th>Flight Distance</th>\n",
       "      <th>Inflight wifi service</th>\n",
       "      <th>Departure/Arrival time convenient</th>\n",
       "      <th>...</th>\n",
       "      <th>Inflight entertainment</th>\n",
       "      <th>On-board service</th>\n",
       "      <th>Leg room service</th>\n",
       "      <th>Baggage handling</th>\n",
       "      <th>Checkin service</th>\n",
       "      <th>Inflight service</th>\n",
       "      <th>Cleanliness</th>\n",
       "      <th>Departure Delay in Minutes</th>\n",
       "      <th>Arrival Delay in Minutes</th>\n",
       "      <th>satisfaction</th>\n",
       "    </tr>\n",
       "  </thead>\n",
       "  <tbody>\n",
       "    <tr>\n",
       "      <th>0</th>\n",
       "      <td>0</td>\n",
       "      <td>19556</td>\n",
       "      <td>Female</td>\n",
       "      <td>Loyal Customer</td>\n",
       "      <td>52</td>\n",
       "      <td>Business travel</td>\n",
       "      <td>Eco</td>\n",
       "      <td>160</td>\n",
       "      <td>5</td>\n",
       "      <td>4</td>\n",
       "      <td>...</td>\n",
       "      <td>5</td>\n",
       "      <td>5</td>\n",
       "      <td>5</td>\n",
       "      <td>5</td>\n",
       "      <td>2</td>\n",
       "      <td>5</td>\n",
       "      <td>5</td>\n",
       "      <td>50</td>\n",
       "      <td>44.0</td>\n",
       "      <td>satisfied</td>\n",
       "    </tr>\n",
       "    <tr>\n",
       "      <th>1</th>\n",
       "      <td>1</td>\n",
       "      <td>90035</td>\n",
       "      <td>Female</td>\n",
       "      <td>Loyal Customer</td>\n",
       "      <td>36</td>\n",
       "      <td>Business travel</td>\n",
       "      <td>Business</td>\n",
       "      <td>2863</td>\n",
       "      <td>1</td>\n",
       "      <td>1</td>\n",
       "      <td>...</td>\n",
       "      <td>4</td>\n",
       "      <td>4</td>\n",
       "      <td>4</td>\n",
       "      <td>4</td>\n",
       "      <td>3</td>\n",
       "      <td>4</td>\n",
       "      <td>5</td>\n",
       "      <td>0</td>\n",
       "      <td>0.0</td>\n",
       "      <td>satisfied</td>\n",
       "    </tr>\n",
       "    <tr>\n",
       "      <th>2</th>\n",
       "      <td>2</td>\n",
       "      <td>12360</td>\n",
       "      <td>Male</td>\n",
       "      <td>disloyal Customer</td>\n",
       "      <td>20</td>\n",
       "      <td>Business travel</td>\n",
       "      <td>Eco</td>\n",
       "      <td>192</td>\n",
       "      <td>2</td>\n",
       "      <td>0</td>\n",
       "      <td>...</td>\n",
       "      <td>2</td>\n",
       "      <td>4</td>\n",
       "      <td>1</td>\n",
       "      <td>3</td>\n",
       "      <td>2</td>\n",
       "      <td>2</td>\n",
       "      <td>2</td>\n",
       "      <td>0</td>\n",
       "      <td>0.0</td>\n",
       "      <td>neutral or dissatisfied</td>\n",
       "    </tr>\n",
       "    <tr>\n",
       "      <th>3</th>\n",
       "      <td>3</td>\n",
       "      <td>77959</td>\n",
       "      <td>Male</td>\n",
       "      <td>Loyal Customer</td>\n",
       "      <td>44</td>\n",
       "      <td>Business travel</td>\n",
       "      <td>Business</td>\n",
       "      <td>3377</td>\n",
       "      <td>0</td>\n",
       "      <td>0</td>\n",
       "      <td>...</td>\n",
       "      <td>1</td>\n",
       "      <td>1</td>\n",
       "      <td>1</td>\n",
       "      <td>1</td>\n",
       "      <td>3</td>\n",
       "      <td>1</td>\n",
       "      <td>4</td>\n",
       "      <td>0</td>\n",
       "      <td>6.0</td>\n",
       "      <td>satisfied</td>\n",
       "    </tr>\n",
       "    <tr>\n",
       "      <th>4</th>\n",
       "      <td>4</td>\n",
       "      <td>36875</td>\n",
       "      <td>Female</td>\n",
       "      <td>Loyal Customer</td>\n",
       "      <td>49</td>\n",
       "      <td>Business travel</td>\n",
       "      <td>Eco</td>\n",
       "      <td>1182</td>\n",
       "      <td>2</td>\n",
       "      <td>3</td>\n",
       "      <td>...</td>\n",
       "      <td>2</td>\n",
       "      <td>2</td>\n",
       "      <td>2</td>\n",
       "      <td>2</td>\n",
       "      <td>4</td>\n",
       "      <td>2</td>\n",
       "      <td>4</td>\n",
       "      <td>0</td>\n",
       "      <td>20.0</td>\n",
       "      <td>satisfied</td>\n",
       "    </tr>\n",
       "    <tr>\n",
       "      <th>...</th>\n",
       "      <td>...</td>\n",
       "      <td>...</td>\n",
       "      <td>...</td>\n",
       "      <td>...</td>\n",
       "      <td>...</td>\n",
       "      <td>...</td>\n",
       "      <td>...</td>\n",
       "      <td>...</td>\n",
       "      <td>...</td>\n",
       "      <td>...</td>\n",
       "      <td>...</td>\n",
       "      <td>...</td>\n",
       "      <td>...</td>\n",
       "      <td>...</td>\n",
       "      <td>...</td>\n",
       "      <td>...</td>\n",
       "      <td>...</td>\n",
       "      <td>...</td>\n",
       "      <td>...</td>\n",
       "      <td>...</td>\n",
       "      <td>...</td>\n",
       "    </tr>\n",
       "    <tr>\n",
       "      <th>103899</th>\n",
       "      <td>103899</td>\n",
       "      <td>94171</td>\n",
       "      <td>Female</td>\n",
       "      <td>disloyal Customer</td>\n",
       "      <td>23</td>\n",
       "      <td>Business travel</td>\n",
       "      <td>Eco</td>\n",
       "      <td>192</td>\n",
       "      <td>2</td>\n",
       "      <td>1</td>\n",
       "      <td>...</td>\n",
       "      <td>2</td>\n",
       "      <td>3</td>\n",
       "      <td>1</td>\n",
       "      <td>4</td>\n",
       "      <td>2</td>\n",
       "      <td>3</td>\n",
       "      <td>2</td>\n",
       "      <td>3</td>\n",
       "      <td>0.0</td>\n",
       "      <td>neutral or dissatisfied</td>\n",
       "    </tr>\n",
       "    <tr>\n",
       "      <th>103900</th>\n",
       "      <td>103900</td>\n",
       "      <td>73097</td>\n",
       "      <td>Male</td>\n",
       "      <td>Loyal Customer</td>\n",
       "      <td>49</td>\n",
       "      <td>Business travel</td>\n",
       "      <td>Business</td>\n",
       "      <td>2347</td>\n",
       "      <td>4</td>\n",
       "      <td>4</td>\n",
       "      <td>...</td>\n",
       "      <td>5</td>\n",
       "      <td>5</td>\n",
       "      <td>5</td>\n",
       "      <td>5</td>\n",
       "      <td>5</td>\n",
       "      <td>5</td>\n",
       "      <td>4</td>\n",
       "      <td>0</td>\n",
       "      <td>0.0</td>\n",
       "      <td>satisfied</td>\n",
       "    </tr>\n",
       "    <tr>\n",
       "      <th>103901</th>\n",
       "      <td>103901</td>\n",
       "      <td>68825</td>\n",
       "      <td>Male</td>\n",
       "      <td>disloyal Customer</td>\n",
       "      <td>30</td>\n",
       "      <td>Business travel</td>\n",
       "      <td>Business</td>\n",
       "      <td>1995</td>\n",
       "      <td>1</td>\n",
       "      <td>1</td>\n",
       "      <td>...</td>\n",
       "      <td>4</td>\n",
       "      <td>3</td>\n",
       "      <td>2</td>\n",
       "      <td>4</td>\n",
       "      <td>5</td>\n",
       "      <td>5</td>\n",
       "      <td>4</td>\n",
       "      <td>7</td>\n",
       "      <td>14.0</td>\n",
       "      <td>neutral or dissatisfied</td>\n",
       "    </tr>\n",
       "    <tr>\n",
       "      <th>103902</th>\n",
       "      <td>103902</td>\n",
       "      <td>54173</td>\n",
       "      <td>Female</td>\n",
       "      <td>disloyal Customer</td>\n",
       "      <td>22</td>\n",
       "      <td>Business travel</td>\n",
       "      <td>Eco</td>\n",
       "      <td>1000</td>\n",
       "      <td>1</td>\n",
       "      <td>1</td>\n",
       "      <td>...</td>\n",
       "      <td>1</td>\n",
       "      <td>4</td>\n",
       "      <td>5</td>\n",
       "      <td>1</td>\n",
       "      <td>5</td>\n",
       "      <td>4</td>\n",
       "      <td>1</td>\n",
       "      <td>0</td>\n",
       "      <td>0.0</td>\n",
       "      <td>neutral or dissatisfied</td>\n",
       "    </tr>\n",
       "    <tr>\n",
       "      <th>103903</th>\n",
       "      <td>103903</td>\n",
       "      <td>62567</td>\n",
       "      <td>Male</td>\n",
       "      <td>Loyal Customer</td>\n",
       "      <td>27</td>\n",
       "      <td>Business travel</td>\n",
       "      <td>Business</td>\n",
       "      <td>1723</td>\n",
       "      <td>1</td>\n",
       "      <td>3</td>\n",
       "      <td>...</td>\n",
       "      <td>1</td>\n",
       "      <td>1</td>\n",
       "      <td>1</td>\n",
       "      <td>4</td>\n",
       "      <td>4</td>\n",
       "      <td>3</td>\n",
       "      <td>1</td>\n",
       "      <td>0</td>\n",
       "      <td>0.0</td>\n",
       "      <td>neutral or dissatisfied</td>\n",
       "    </tr>\n",
       "  </tbody>\n",
       "</table>\n",
       "<p>129880 rows × 25 columns</p>\n",
       "</div>"
      ],
      "text/plain": [
       "        Unnamed: 0     id  Gender      Customer Type  Age   Type of Travel  \\\n",
       "0                0  19556  Female     Loyal Customer   52  Business travel   \n",
       "1                1  90035  Female     Loyal Customer   36  Business travel   \n",
       "2                2  12360    Male  disloyal Customer   20  Business travel   \n",
       "3                3  77959    Male     Loyal Customer   44  Business travel   \n",
       "4                4  36875  Female     Loyal Customer   49  Business travel   \n",
       "...            ...    ...     ...                ...  ...              ...   \n",
       "103899      103899  94171  Female  disloyal Customer   23  Business travel   \n",
       "103900      103900  73097    Male     Loyal Customer   49  Business travel   \n",
       "103901      103901  68825    Male  disloyal Customer   30  Business travel   \n",
       "103902      103902  54173  Female  disloyal Customer   22  Business travel   \n",
       "103903      103903  62567    Male     Loyal Customer   27  Business travel   \n",
       "\n",
       "           Class  Flight Distance  Inflight wifi service  \\\n",
       "0            Eco              160                      5   \n",
       "1       Business             2863                      1   \n",
       "2            Eco              192                      2   \n",
       "3       Business             3377                      0   \n",
       "4            Eco             1182                      2   \n",
       "...          ...              ...                    ...   \n",
       "103899       Eco              192                      2   \n",
       "103900  Business             2347                      4   \n",
       "103901  Business             1995                      1   \n",
       "103902       Eco             1000                      1   \n",
       "103903  Business             1723                      1   \n",
       "\n",
       "        Departure/Arrival time convenient  ...  Inflight entertainment  \\\n",
       "0                                       4  ...                       5   \n",
       "1                                       1  ...                       4   \n",
       "2                                       0  ...                       2   \n",
       "3                                       0  ...                       1   \n",
       "4                                       3  ...                       2   \n",
       "...                                   ...  ...                     ...   \n",
       "103899                                  1  ...                       2   \n",
       "103900                                  4  ...                       5   \n",
       "103901                                  1  ...                       4   \n",
       "103902                                  1  ...                       1   \n",
       "103903                                  3  ...                       1   \n",
       "\n",
       "        On-board service  Leg room service  Baggage handling  Checkin service  \\\n",
       "0                      5                 5                 5                2   \n",
       "1                      4                 4                 4                3   \n",
       "2                      4                 1                 3                2   \n",
       "3                      1                 1                 1                3   \n",
       "4                      2                 2                 2                4   \n",
       "...                  ...               ...               ...              ...   \n",
       "103899                 3                 1                 4                2   \n",
       "103900                 5                 5                 5                5   \n",
       "103901                 3                 2                 4                5   \n",
       "103902                 4                 5                 1                5   \n",
       "103903                 1                 1                 4                4   \n",
       "\n",
       "        Inflight service  Cleanliness  Departure Delay in Minutes  \\\n",
       "0                      5            5                          50   \n",
       "1                      4            5                           0   \n",
       "2                      2            2                           0   \n",
       "3                      1            4                           0   \n",
       "4                      2            4                           0   \n",
       "...                  ...          ...                         ...   \n",
       "103899                 3            2                           3   \n",
       "103900                 5            4                           0   \n",
       "103901                 5            4                           7   \n",
       "103902                 4            1                           0   \n",
       "103903                 3            1                           0   \n",
       "\n",
       "        Arrival Delay in Minutes             satisfaction  \n",
       "0                           44.0                satisfied  \n",
       "1                            0.0                satisfied  \n",
       "2                            0.0  neutral or dissatisfied  \n",
       "3                            6.0                satisfied  \n",
       "4                           20.0                satisfied  \n",
       "...                          ...                      ...  \n",
       "103899                       0.0  neutral or dissatisfied  \n",
       "103900                       0.0                satisfied  \n",
       "103901                      14.0  neutral or dissatisfied  \n",
       "103902                       0.0  neutral or dissatisfied  \n",
       "103903                       0.0  neutral or dissatisfied  \n",
       "\n",
       "[129880 rows x 25 columns]"
      ]
     },
     "execution_count": 2,
     "metadata": {},
     "output_type": "execute_result"
    }
   ],
   "source": [
    "# Read in Datasets and join them together\n",
    "data1 = pd.read_csv(\"Data/Week5_Midterm/data1.csv\")\n",
    "data2 = pd.read_csv(\"Data/Week5_Midterm/data2.csv\")\n",
    "survey_data = pd.concat([data1, data2])\n",
    "survey_data"
   ]
  },
  {
   "cell_type": "markdown",
   "metadata": {},
   "source": [
    "The Data is filled with String Variables that can be changed to Categorical variables. From there, Dummy variables can be made, depending on how many Factor levels there are. The rest of the data is some form of Numeric. It seems as if 'Inflight wifi service' to 'Cleanliness' are numerical factors. There are only 5 levels. These can most likely be left the same. "
   ]
  },
  {
   "cell_type": "code",
   "execution_count": 3,
   "metadata": {},
   "outputs": [
    {
     "data": {
      "text/plain": [
       "Unnamed: 0                             int64\n",
       "id                                     int64\n",
       "Gender                                object\n",
       "Customer Type                         object\n",
       "Age                                    int64\n",
       "Type of Travel                        object\n",
       "Class                                 object\n",
       "Flight Distance                        int64\n",
       "Inflight wifi service                  int64\n",
       "Departure/Arrival time convenient      int64\n",
       "Ease of Online booking                 int64\n",
       "Gate location                          int64\n",
       "Food and drink                         int64\n",
       "Online boarding                        int64\n",
       "Seat comfort                           int64\n",
       "Inflight entertainment                 int64\n",
       "On-board service                       int64\n",
       "Leg room service                       int64\n",
       "Baggage handling                       int64\n",
       "Checkin service                        int64\n",
       "Inflight service                       int64\n",
       "Cleanliness                            int64\n",
       "Departure Delay in Minutes             int64\n",
       "Arrival Delay in Minutes             float64\n",
       "satisfaction                          object\n",
       "dtype: object"
      ]
     },
     "execution_count": 3,
     "metadata": {},
     "output_type": "execute_result"
    }
   ],
   "source": [
    "survey_data.dtypes"
   ]
  },
  {
   "cell_type": "markdown",
   "metadata": {},
   "source": [
    "I am confused about 'Leg room service'. As far as I am aware, there is no service. Some seats just have more leg room than others. They could possibly add a variable for how much leg room the customers had in inches. This way we could find which ideal sizes lead to happy customers. \n",
    "\n",
    "'Inflight entertainment' is also very vague. Different customers like different things. Maybe  we could add a new categorical variable that could describe the type of inflight entertainment. If it is usually movies, then the genre. Or where the screen is located (in front of every seat or every certain amount of rows).\n",
    "\n",
    "We could possible add a new variable for how full the flight was. This way we can see if happy customers were just on less busy planes or not. \n",
    "\n",
    "We could also add a new variable for Overall Flight Satisfaction. This way we can see how the customers are rating the overall flight, along with every other rating. "
   ]
  },
  {
   "cell_type": "markdown",
   "metadata": {},
   "source": [
    "# Exploratory Data Analysis "
   ]
  },
  {
   "cell_type": "code",
   "execution_count": 4,
   "metadata": {},
   "outputs": [
    {
     "data": {
      "text/html": [
       "<div>\n",
       "<style scoped>\n",
       "    .dataframe tbody tr th:only-of-type {\n",
       "        vertical-align: middle;\n",
       "    }\n",
       "\n",
       "    .dataframe tbody tr th {\n",
       "        vertical-align: top;\n",
       "    }\n",
       "\n",
       "    .dataframe thead th {\n",
       "        text-align: right;\n",
       "    }\n",
       "</style>\n",
       "<table border=\"1\" class=\"dataframe\">\n",
       "  <thead>\n",
       "    <tr style=\"text-align: right;\">\n",
       "      <th></th>\n",
       "      <th>Unnamed: 0</th>\n",
       "      <th>id</th>\n",
       "      <th>Age</th>\n",
       "      <th>Flight Distance</th>\n",
       "      <th>Inflight wifi service</th>\n",
       "      <th>Departure/Arrival time convenient</th>\n",
       "      <th>Ease of Online booking</th>\n",
       "      <th>Gate location</th>\n",
       "      <th>Food and drink</th>\n",
       "      <th>Online boarding</th>\n",
       "      <th>Seat comfort</th>\n",
       "      <th>Inflight entertainment</th>\n",
       "      <th>On-board service</th>\n",
       "      <th>Leg room service</th>\n",
       "      <th>Baggage handling</th>\n",
       "      <th>Checkin service</th>\n",
       "      <th>Inflight service</th>\n",
       "      <th>Cleanliness</th>\n",
       "      <th>Departure Delay in Minutes</th>\n",
       "      <th>Arrival Delay in Minutes</th>\n",
       "    </tr>\n",
       "  </thead>\n",
       "  <tbody>\n",
       "    <tr>\n",
       "      <th>count</th>\n",
       "      <td>129880.000000</td>\n",
       "      <td>129880.000000</td>\n",
       "      <td>129880.000000</td>\n",
       "      <td>129880.000000</td>\n",
       "      <td>129880.000000</td>\n",
       "      <td>129880.000000</td>\n",
       "      <td>129880.000000</td>\n",
       "      <td>129880.000000</td>\n",
       "      <td>129880.000000</td>\n",
       "      <td>129880.000000</td>\n",
       "      <td>129880.000000</td>\n",
       "      <td>129880.000000</td>\n",
       "      <td>129880.000000</td>\n",
       "      <td>129880.000000</td>\n",
       "      <td>129880.000000</td>\n",
       "      <td>129880.000000</td>\n",
       "      <td>129880.000000</td>\n",
       "      <td>129880.000000</td>\n",
       "      <td>129880.000000</td>\n",
       "      <td>129487.000000</td>\n",
       "    </tr>\n",
       "    <tr>\n",
       "      <th>mean</th>\n",
       "      <td>44158.700000</td>\n",
       "      <td>64940.500000</td>\n",
       "      <td>39.427957</td>\n",
       "      <td>1190.316392</td>\n",
       "      <td>2.728696</td>\n",
       "      <td>3.057599</td>\n",
       "      <td>2.756876</td>\n",
       "      <td>2.976925</td>\n",
       "      <td>3.204774</td>\n",
       "      <td>3.252633</td>\n",
       "      <td>3.441361</td>\n",
       "      <td>3.358077</td>\n",
       "      <td>3.383023</td>\n",
       "      <td>3.350878</td>\n",
       "      <td>3.632114</td>\n",
       "      <td>3.306267</td>\n",
       "      <td>3.642193</td>\n",
       "      <td>3.286326</td>\n",
       "      <td>14.713713</td>\n",
       "      <td>15.091129</td>\n",
       "    </tr>\n",
       "    <tr>\n",
       "      <th>std</th>\n",
       "      <td>31207.377062</td>\n",
       "      <td>37493.270818</td>\n",
       "      <td>15.119360</td>\n",
       "      <td>997.452477</td>\n",
       "      <td>1.329340</td>\n",
       "      <td>1.526741</td>\n",
       "      <td>1.401740</td>\n",
       "      <td>1.278520</td>\n",
       "      <td>1.329933</td>\n",
       "      <td>1.350719</td>\n",
       "      <td>1.319289</td>\n",
       "      <td>1.334049</td>\n",
       "      <td>1.287099</td>\n",
       "      <td>1.316252</td>\n",
       "      <td>1.180025</td>\n",
       "      <td>1.266185</td>\n",
       "      <td>1.176669</td>\n",
       "      <td>1.313682</td>\n",
       "      <td>38.071126</td>\n",
       "      <td>38.465650</td>\n",
       "    </tr>\n",
       "    <tr>\n",
       "      <th>min</th>\n",
       "      <td>0.000000</td>\n",
       "      <td>1.000000</td>\n",
       "      <td>7.000000</td>\n",
       "      <td>31.000000</td>\n",
       "      <td>0.000000</td>\n",
       "      <td>0.000000</td>\n",
       "      <td>0.000000</td>\n",
       "      <td>0.000000</td>\n",
       "      <td>0.000000</td>\n",
       "      <td>0.000000</td>\n",
       "      <td>0.000000</td>\n",
       "      <td>0.000000</td>\n",
       "      <td>0.000000</td>\n",
       "      <td>0.000000</td>\n",
       "      <td>1.000000</td>\n",
       "      <td>0.000000</td>\n",
       "      <td>0.000000</td>\n",
       "      <td>0.000000</td>\n",
       "      <td>0.000000</td>\n",
       "      <td>0.000000</td>\n",
       "    </tr>\n",
       "    <tr>\n",
       "      <th>25%</th>\n",
       "      <td>16234.750000</td>\n",
       "      <td>32470.750000</td>\n",
       "      <td>27.000000</td>\n",
       "      <td>414.000000</td>\n",
       "      <td>2.000000</td>\n",
       "      <td>2.000000</td>\n",
       "      <td>2.000000</td>\n",
       "      <td>2.000000</td>\n",
       "      <td>2.000000</td>\n",
       "      <td>2.000000</td>\n",
       "      <td>2.000000</td>\n",
       "      <td>2.000000</td>\n",
       "      <td>2.000000</td>\n",
       "      <td>2.000000</td>\n",
       "      <td>3.000000</td>\n",
       "      <td>3.000000</td>\n",
       "      <td>3.000000</td>\n",
       "      <td>2.000000</td>\n",
       "      <td>0.000000</td>\n",
       "      <td>0.000000</td>\n",
       "    </tr>\n",
       "    <tr>\n",
       "      <th>50%</th>\n",
       "      <td>38963.500000</td>\n",
       "      <td>64940.500000</td>\n",
       "      <td>40.000000</td>\n",
       "      <td>844.000000</td>\n",
       "      <td>3.000000</td>\n",
       "      <td>3.000000</td>\n",
       "      <td>3.000000</td>\n",
       "      <td>3.000000</td>\n",
       "      <td>3.000000</td>\n",
       "      <td>3.000000</td>\n",
       "      <td>4.000000</td>\n",
       "      <td>4.000000</td>\n",
       "      <td>4.000000</td>\n",
       "      <td>4.000000</td>\n",
       "      <td>4.000000</td>\n",
       "      <td>3.000000</td>\n",
       "      <td>4.000000</td>\n",
       "      <td>3.000000</td>\n",
       "      <td>0.000000</td>\n",
       "      <td>0.000000</td>\n",
       "    </tr>\n",
       "    <tr>\n",
       "      <th>75%</th>\n",
       "      <td>71433.250000</td>\n",
       "      <td>97410.250000</td>\n",
       "      <td>51.000000</td>\n",
       "      <td>1744.000000</td>\n",
       "      <td>4.000000</td>\n",
       "      <td>4.000000</td>\n",
       "      <td>4.000000</td>\n",
       "      <td>4.000000</td>\n",
       "      <td>4.000000</td>\n",
       "      <td>4.000000</td>\n",
       "      <td>5.000000</td>\n",
       "      <td>4.000000</td>\n",
       "      <td>4.000000</td>\n",
       "      <td>4.000000</td>\n",
       "      <td>5.000000</td>\n",
       "      <td>4.000000</td>\n",
       "      <td>5.000000</td>\n",
       "      <td>4.000000</td>\n",
       "      <td>12.000000</td>\n",
       "      <td>13.000000</td>\n",
       "    </tr>\n",
       "    <tr>\n",
       "      <th>max</th>\n",
       "      <td>103903.000000</td>\n",
       "      <td>129880.000000</td>\n",
       "      <td>85.000000</td>\n",
       "      <td>4983.000000</td>\n",
       "      <td>5.000000</td>\n",
       "      <td>5.000000</td>\n",
       "      <td>5.000000</td>\n",
       "      <td>5.000000</td>\n",
       "      <td>5.000000</td>\n",
       "      <td>5.000000</td>\n",
       "      <td>5.000000</td>\n",
       "      <td>5.000000</td>\n",
       "      <td>5.000000</td>\n",
       "      <td>5.000000</td>\n",
       "      <td>5.000000</td>\n",
       "      <td>5.000000</td>\n",
       "      <td>5.000000</td>\n",
       "      <td>5.000000</td>\n",
       "      <td>1592.000000</td>\n",
       "      <td>1584.000000</td>\n",
       "    </tr>\n",
       "  </tbody>\n",
       "</table>\n",
       "</div>"
      ],
      "text/plain": [
       "          Unnamed: 0             id            Age  Flight Distance  \\\n",
       "count  129880.000000  129880.000000  129880.000000    129880.000000   \n",
       "mean    44158.700000   64940.500000      39.427957      1190.316392   \n",
       "std     31207.377062   37493.270818      15.119360       997.452477   \n",
       "min         0.000000       1.000000       7.000000        31.000000   \n",
       "25%     16234.750000   32470.750000      27.000000       414.000000   \n",
       "50%     38963.500000   64940.500000      40.000000       844.000000   \n",
       "75%     71433.250000   97410.250000      51.000000      1744.000000   \n",
       "max    103903.000000  129880.000000      85.000000      4983.000000   \n",
       "\n",
       "       Inflight wifi service  Departure/Arrival time convenient  \\\n",
       "count          129880.000000                      129880.000000   \n",
       "mean                2.728696                           3.057599   \n",
       "std                 1.329340                           1.526741   \n",
       "min                 0.000000                           0.000000   \n",
       "25%                 2.000000                           2.000000   \n",
       "50%                 3.000000                           3.000000   \n",
       "75%                 4.000000                           4.000000   \n",
       "max                 5.000000                           5.000000   \n",
       "\n",
       "       Ease of Online booking  Gate location  Food and drink  Online boarding  \\\n",
       "count           129880.000000  129880.000000   129880.000000    129880.000000   \n",
       "mean                 2.756876       2.976925        3.204774         3.252633   \n",
       "std                  1.401740       1.278520        1.329933         1.350719   \n",
       "min                  0.000000       0.000000        0.000000         0.000000   \n",
       "25%                  2.000000       2.000000        2.000000         2.000000   \n",
       "50%                  3.000000       3.000000        3.000000         3.000000   \n",
       "75%                  4.000000       4.000000        4.000000         4.000000   \n",
       "max                  5.000000       5.000000        5.000000         5.000000   \n",
       "\n",
       "        Seat comfort  Inflight entertainment  On-board service  \\\n",
       "count  129880.000000           129880.000000     129880.000000   \n",
       "mean        3.441361                3.358077          3.383023   \n",
       "std         1.319289                1.334049          1.287099   \n",
       "min         0.000000                0.000000          0.000000   \n",
       "25%         2.000000                2.000000          2.000000   \n",
       "50%         4.000000                4.000000          4.000000   \n",
       "75%         5.000000                4.000000          4.000000   \n",
       "max         5.000000                5.000000          5.000000   \n",
       "\n",
       "       Leg room service  Baggage handling  Checkin service  Inflight service  \\\n",
       "count     129880.000000     129880.000000    129880.000000     129880.000000   \n",
       "mean           3.350878          3.632114         3.306267          3.642193   \n",
       "std            1.316252          1.180025         1.266185          1.176669   \n",
       "min            0.000000          1.000000         0.000000          0.000000   \n",
       "25%            2.000000          3.000000         3.000000          3.000000   \n",
       "50%            4.000000          4.000000         3.000000          4.000000   \n",
       "75%            4.000000          5.000000         4.000000          5.000000   \n",
       "max            5.000000          5.000000         5.000000          5.000000   \n",
       "\n",
       "         Cleanliness  Departure Delay in Minutes  Arrival Delay in Minutes  \n",
       "count  129880.000000               129880.000000             129487.000000  \n",
       "mean        3.286326                   14.713713                 15.091129  \n",
       "std         1.313682                   38.071126                 38.465650  \n",
       "min         0.000000                    0.000000                  0.000000  \n",
       "25%         2.000000                    0.000000                  0.000000  \n",
       "50%         3.000000                    0.000000                  0.000000  \n",
       "75%         4.000000                   12.000000                 13.000000  \n",
       "max         5.000000                 1592.000000               1584.000000  "
      ]
     },
     "execution_count": 4,
     "metadata": {},
     "output_type": "execute_result"
    }
   ],
   "source": [
    "survey_data.describe()"
   ]
  },
  {
   "cell_type": "markdown",
   "metadata": {},
   "source": [
    "Age \n",
    "- We can see that the Average Age is about 40 years old.\n",
    "- The minimum age is 7, while the maximum is 80.\n",
    "\n",
    "Flight Distance \n",
    "- The average distance is 1190 miles travelled \n",
    "- The minimum distance is 31, while the maximum is 4983.\n",
    "\n",
    "Departure Delay in Minutes \n",
    "- The average delay is 14 minutes \n",
    "- The minimum delay is 0, while the maximum is 1592 minutes or 26.5 hours.\n",
    "\n",
    "Arrival Delay in Minutes \n",
    "- the average delay is 14 minutes \n",
    "- The minimum delay is 0, while the maximum is 1584 minutes or 26.5 hours.\n",
    "\n",
    "These are very long delays. We should investigate why these flights were delayed so long. Longer delays would most likely lead to less satisfied customers. We could possibly add a variable for if their was a delay, what was the reason. This way we can track what is wrong with our flights.\n",
    "\n",
    "The other numeric columns are factor levels so they do not need to be examined the same way."
   ]
  },
  {
   "cell_type": "code",
   "execution_count": 5,
   "metadata": {},
   "outputs": [
    {
     "data": {
      "text/plain": [
       "Female    65899\n",
       "Male      63981\n",
       "Name: Gender, dtype: int64"
      ]
     },
     "execution_count": 5,
     "metadata": {},
     "output_type": "execute_result"
    }
   ],
   "source": [
    "survey_data[\"Gender\"].value_counts()"
   ]
  },
  {
   "cell_type": "markdown",
   "metadata": {},
   "source": [
    "The Gender Ratio of the dataset is fairly even, with the majority being Female. Since Gender is not a binary, there could be an \"Other' Category. "
   ]
  },
  {
   "cell_type": "code",
   "execution_count": 6,
   "metadata": {},
   "outputs": [
    {
     "data": {
      "text/plain": [
       "Loyal Customer       106100\n",
       "disloyal Customer     23780\n",
       "Name: Customer Type, dtype: int64"
      ]
     },
     "execution_count": 6,
     "metadata": {},
     "output_type": "execute_result"
    }
   ],
   "source": [
    "survey_data[\"Customer Type\"].value_counts()"
   ]
  },
  {
   "cell_type": "markdown",
   "metadata": {},
   "source": [
    "There are only two types of Customers and a majority are Loyal. I wonder what loyal and disloyal mean in terms of these customers. Sometimes people cannot always take the same Airline for their destinations or cannot afford it. Maybe there could be a possible Neutral Customer category, for those that are unaware of the Airline loyalty. "
   ]
  },
  {
   "cell_type": "code",
   "execution_count": 7,
   "metadata": {},
   "outputs": [
    {
     "data": {
      "text/plain": [
       "Business travel    89693\n",
       "Personal Travel    40187\n",
       "Name: Type of Travel, dtype: int64"
      ]
     },
     "execution_count": 7,
     "metadata": {},
     "output_type": "execute_result"
    }
   ],
   "source": [
    "survey_data[\"Type of Travel\"].value_counts()"
   ]
  },
  {
   "cell_type": "markdown",
   "metadata": {},
   "source": [
    "There are only two types of fliers, Personal and Business. Most travel is Business. In Fact, Business travel is more than double Personal travel. I believe there could be a third category for Vacation travel. This may fall under Personal, but Fliers could be flying for other personal reasons besides vaction. "
   ]
  },
  {
   "cell_type": "code",
   "execution_count": 8,
   "metadata": {},
   "outputs": [
    {
     "data": {
      "text/plain": [
       "Business    62160\n",
       "Eco         58309\n",
       "Eco Plus     9411\n",
       "Name: Class, dtype: int64"
      ]
     },
     "execution_count": 8,
     "metadata": {},
     "output_type": "execute_result"
    }
   ],
   "source": [
    "survey_data[\"Class\"].value_counts()"
   ]
  },
  {
   "cell_type": "markdown",
   "metadata": {},
   "source": [
    "This is the first categorical variable to have more than 2 levels. Only 7% of the Fliers are Eco Plus, while Business once again makes up the majority of travel. "
   ]
  },
  {
   "cell_type": "code",
   "execution_count": 9,
   "metadata": {},
   "outputs": [
    {
     "data": {
      "text/plain": [
       "neutral or dissatisfied    73452\n",
       "satisfied                  56428\n",
       "Name: satisfaction, dtype: int64"
      ]
     },
     "execution_count": 9,
     "metadata": {},
     "output_type": "execute_result"
    }
   ],
   "source": [
    "survey_data[\"satisfaction\"].value_counts()"
   ]
  },
  {
   "cell_type": "markdown",
   "metadata": {},
   "source": [
    "More than 56% of all Fliers were either Neutral or Dissatisfied. Considering this is a response variable, I believe Neutral or Dissatisfied should not be grouped together. They should be split. We want to know why a customer is neutral and dissatisfied. This helps us determine what is wrong and helps us fix it. I understand that we only care about the Satisfied customers, but we lose information this way.\n",
    "\n",
    "Since this is the target class, we can see that it is not extremely unbalanced, so Undersampling will not be needed"
   ]
  },
  {
   "cell_type": "code",
   "execution_count": 10,
   "metadata": {},
   "outputs": [
    {
     "data": {
      "text/plain": [
       "2    32320\n",
       "3    32185\n",
       "4    24775\n",
       "1    22328\n",
       "5    14356\n",
       "0     3916\n",
       "Name: Inflight wifi service, dtype: int64"
      ]
     },
     "execution_count": 10,
     "metadata": {},
     "output_type": "execute_result"
    }
   ],
   "source": [
    "survey_data[\"Inflight wifi service\"].value_counts()"
   ]
  },
  {
   "cell_type": "code",
   "execution_count": 11,
   "metadata": {},
   "outputs": [
    {
     "data": {
      "text/plain": [
       "4    31880\n",
       "5    27998\n",
       "3    22378\n",
       "2    21534\n",
       "1    19409\n",
       "0     6681\n",
       "Name: Departure/Arrival time convenient, dtype: int64"
      ]
     },
     "execution_count": 11,
     "metadata": {},
     "output_type": "execute_result"
    }
   ],
   "source": [
    "survey_data[\"Departure/Arrival time convenient\"].value_counts()"
   ]
  },
  {
   "cell_type": "markdown",
   "metadata": {},
   "source": [
    "I will not go into all Numeric Factor Variables as there are a lot that would clog up this report. \n",
    "\n",
    "Overall, the Categorical Variables seem to be evenally ballanced, which is good for predictive models. "
   ]
  },
  {
   "cell_type": "markdown",
   "metadata": {},
   "source": [
    "# Data Cleaning"
   ]
  },
  {
   "cell_type": "code",
   "execution_count": 12,
   "metadata": {},
   "outputs": [
    {
     "data": {
      "text/html": [
       "<div>\n",
       "<style scoped>\n",
       "    .dataframe tbody tr th:only-of-type {\n",
       "        vertical-align: middle;\n",
       "    }\n",
       "\n",
       "    .dataframe tbody tr th {\n",
       "        vertical-align: top;\n",
       "    }\n",
       "\n",
       "    .dataframe thead th {\n",
       "        text-align: right;\n",
       "    }\n",
       "</style>\n",
       "<table border=\"1\" class=\"dataframe\">\n",
       "  <thead>\n",
       "    <tr style=\"text-align: right;\">\n",
       "      <th></th>\n",
       "      <th>Gender</th>\n",
       "      <th>Customer Type</th>\n",
       "      <th>Age</th>\n",
       "      <th>Type of Travel</th>\n",
       "      <th>Flight Distance</th>\n",
       "      <th>Inflight wifi service</th>\n",
       "      <th>Departure/Arrival time convenient</th>\n",
       "      <th>Ease of Online booking</th>\n",
       "      <th>Gate location</th>\n",
       "      <th>Food and drink</th>\n",
       "      <th>...</th>\n",
       "      <th>Baggage handling</th>\n",
       "      <th>Checkin service</th>\n",
       "      <th>Inflight service</th>\n",
       "      <th>Cleanliness</th>\n",
       "      <th>Departure Delay in Minutes</th>\n",
       "      <th>Arrival Delay in Minutes</th>\n",
       "      <th>satisfaction</th>\n",
       "      <th>Business</th>\n",
       "      <th>Eco</th>\n",
       "      <th>Eco Plus</th>\n",
       "    </tr>\n",
       "  </thead>\n",
       "  <tbody>\n",
       "    <tr>\n",
       "      <th>0</th>\n",
       "      <td>0</td>\n",
       "      <td>1</td>\n",
       "      <td>52</td>\n",
       "      <td>1</td>\n",
       "      <td>160</td>\n",
       "      <td>5</td>\n",
       "      <td>4</td>\n",
       "      <td>3</td>\n",
       "      <td>4</td>\n",
       "      <td>3</td>\n",
       "      <td>...</td>\n",
       "      <td>5</td>\n",
       "      <td>2</td>\n",
       "      <td>5</td>\n",
       "      <td>5</td>\n",
       "      <td>50</td>\n",
       "      <td>44.0</td>\n",
       "      <td>0</td>\n",
       "      <td>0</td>\n",
       "      <td>1</td>\n",
       "      <td>0</td>\n",
       "    </tr>\n",
       "    <tr>\n",
       "      <th>1</th>\n",
       "      <td>0</td>\n",
       "      <td>1</td>\n",
       "      <td>36</td>\n",
       "      <td>1</td>\n",
       "      <td>2863</td>\n",
       "      <td>1</td>\n",
       "      <td>1</td>\n",
       "      <td>3</td>\n",
       "      <td>1</td>\n",
       "      <td>5</td>\n",
       "      <td>...</td>\n",
       "      <td>4</td>\n",
       "      <td>3</td>\n",
       "      <td>4</td>\n",
       "      <td>5</td>\n",
       "      <td>0</td>\n",
       "      <td>0.0</td>\n",
       "      <td>0</td>\n",
       "      <td>1</td>\n",
       "      <td>0</td>\n",
       "      <td>0</td>\n",
       "    </tr>\n",
       "    <tr>\n",
       "      <th>2</th>\n",
       "      <td>1</td>\n",
       "      <td>0</td>\n",
       "      <td>20</td>\n",
       "      <td>1</td>\n",
       "      <td>192</td>\n",
       "      <td>2</td>\n",
       "      <td>0</td>\n",
       "      <td>2</td>\n",
       "      <td>4</td>\n",
       "      <td>2</td>\n",
       "      <td>...</td>\n",
       "      <td>3</td>\n",
       "      <td>2</td>\n",
       "      <td>2</td>\n",
       "      <td>2</td>\n",
       "      <td>0</td>\n",
       "      <td>0.0</td>\n",
       "      <td>1</td>\n",
       "      <td>0</td>\n",
       "      <td>1</td>\n",
       "      <td>0</td>\n",
       "    </tr>\n",
       "    <tr>\n",
       "      <th>3</th>\n",
       "      <td>1</td>\n",
       "      <td>1</td>\n",
       "      <td>44</td>\n",
       "      <td>1</td>\n",
       "      <td>3377</td>\n",
       "      <td>0</td>\n",
       "      <td>0</td>\n",
       "      <td>0</td>\n",
       "      <td>2</td>\n",
       "      <td>3</td>\n",
       "      <td>...</td>\n",
       "      <td>1</td>\n",
       "      <td>3</td>\n",
       "      <td>1</td>\n",
       "      <td>4</td>\n",
       "      <td>0</td>\n",
       "      <td>6.0</td>\n",
       "      <td>0</td>\n",
       "      <td>1</td>\n",
       "      <td>0</td>\n",
       "      <td>0</td>\n",
       "    </tr>\n",
       "    <tr>\n",
       "      <th>4</th>\n",
       "      <td>0</td>\n",
       "      <td>1</td>\n",
       "      <td>49</td>\n",
       "      <td>1</td>\n",
       "      <td>1182</td>\n",
       "      <td>2</td>\n",
       "      <td>3</td>\n",
       "      <td>4</td>\n",
       "      <td>3</td>\n",
       "      <td>4</td>\n",
       "      <td>...</td>\n",
       "      <td>2</td>\n",
       "      <td>4</td>\n",
       "      <td>2</td>\n",
       "      <td>4</td>\n",
       "      <td>0</td>\n",
       "      <td>20.0</td>\n",
       "      <td>0</td>\n",
       "      <td>0</td>\n",
       "      <td>1</td>\n",
       "      <td>0</td>\n",
       "    </tr>\n",
       "    <tr>\n",
       "      <th>...</th>\n",
       "      <td>...</td>\n",
       "      <td>...</td>\n",
       "      <td>...</td>\n",
       "      <td>...</td>\n",
       "      <td>...</td>\n",
       "      <td>...</td>\n",
       "      <td>...</td>\n",
       "      <td>...</td>\n",
       "      <td>...</td>\n",
       "      <td>...</td>\n",
       "      <td>...</td>\n",
       "      <td>...</td>\n",
       "      <td>...</td>\n",
       "      <td>...</td>\n",
       "      <td>...</td>\n",
       "      <td>...</td>\n",
       "      <td>...</td>\n",
       "      <td>...</td>\n",
       "      <td>...</td>\n",
       "      <td>...</td>\n",
       "      <td>...</td>\n",
       "    </tr>\n",
       "    <tr>\n",
       "      <th>129482</th>\n",
       "      <td>0</td>\n",
       "      <td>0</td>\n",
       "      <td>23</td>\n",
       "      <td>1</td>\n",
       "      <td>192</td>\n",
       "      <td>2</td>\n",
       "      <td>1</td>\n",
       "      <td>2</td>\n",
       "      <td>3</td>\n",
       "      <td>2</td>\n",
       "      <td>...</td>\n",
       "      <td>4</td>\n",
       "      <td>2</td>\n",
       "      <td>3</td>\n",
       "      <td>2</td>\n",
       "      <td>3</td>\n",
       "      <td>0.0</td>\n",
       "      <td>1</td>\n",
       "      <td>0</td>\n",
       "      <td>1</td>\n",
       "      <td>0</td>\n",
       "    </tr>\n",
       "    <tr>\n",
       "      <th>129483</th>\n",
       "      <td>1</td>\n",
       "      <td>1</td>\n",
       "      <td>49</td>\n",
       "      <td>1</td>\n",
       "      <td>2347</td>\n",
       "      <td>4</td>\n",
       "      <td>4</td>\n",
       "      <td>4</td>\n",
       "      <td>4</td>\n",
       "      <td>2</td>\n",
       "      <td>...</td>\n",
       "      <td>5</td>\n",
       "      <td>5</td>\n",
       "      <td>5</td>\n",
       "      <td>4</td>\n",
       "      <td>0</td>\n",
       "      <td>0.0</td>\n",
       "      <td>0</td>\n",
       "      <td>1</td>\n",
       "      <td>0</td>\n",
       "      <td>0</td>\n",
       "    </tr>\n",
       "    <tr>\n",
       "      <th>129484</th>\n",
       "      <td>1</td>\n",
       "      <td>0</td>\n",
       "      <td>30</td>\n",
       "      <td>1</td>\n",
       "      <td>1995</td>\n",
       "      <td>1</td>\n",
       "      <td>1</td>\n",
       "      <td>1</td>\n",
       "      <td>3</td>\n",
       "      <td>4</td>\n",
       "      <td>...</td>\n",
       "      <td>4</td>\n",
       "      <td>5</td>\n",
       "      <td>5</td>\n",
       "      <td>4</td>\n",
       "      <td>7</td>\n",
       "      <td>14.0</td>\n",
       "      <td>1</td>\n",
       "      <td>1</td>\n",
       "      <td>0</td>\n",
       "      <td>0</td>\n",
       "    </tr>\n",
       "    <tr>\n",
       "      <th>129485</th>\n",
       "      <td>0</td>\n",
       "      <td>0</td>\n",
       "      <td>22</td>\n",
       "      <td>1</td>\n",
       "      <td>1000</td>\n",
       "      <td>1</td>\n",
       "      <td>1</td>\n",
       "      <td>1</td>\n",
       "      <td>5</td>\n",
       "      <td>1</td>\n",
       "      <td>...</td>\n",
       "      <td>1</td>\n",
       "      <td>5</td>\n",
       "      <td>4</td>\n",
       "      <td>1</td>\n",
       "      <td>0</td>\n",
       "      <td>0.0</td>\n",
       "      <td>1</td>\n",
       "      <td>0</td>\n",
       "      <td>1</td>\n",
       "      <td>0</td>\n",
       "    </tr>\n",
       "    <tr>\n",
       "      <th>129486</th>\n",
       "      <td>1</td>\n",
       "      <td>1</td>\n",
       "      <td>27</td>\n",
       "      <td>1</td>\n",
       "      <td>1723</td>\n",
       "      <td>1</td>\n",
       "      <td>3</td>\n",
       "      <td>3</td>\n",
       "      <td>3</td>\n",
       "      <td>1</td>\n",
       "      <td>...</td>\n",
       "      <td>4</td>\n",
       "      <td>4</td>\n",
       "      <td>3</td>\n",
       "      <td>1</td>\n",
       "      <td>0</td>\n",
       "      <td>0.0</td>\n",
       "      <td>1</td>\n",
       "      <td>1</td>\n",
       "      <td>0</td>\n",
       "      <td>0</td>\n",
       "    </tr>\n",
       "  </tbody>\n",
       "</table>\n",
       "<p>129487 rows × 25 columns</p>\n",
       "</div>"
      ],
      "text/plain": [
       "        Gender  Customer Type  Age  Type of Travel  Flight Distance  \\\n",
       "0            0              1   52               1              160   \n",
       "1            0              1   36               1             2863   \n",
       "2            1              0   20               1              192   \n",
       "3            1              1   44               1             3377   \n",
       "4            0              1   49               1             1182   \n",
       "...        ...            ...  ...             ...              ...   \n",
       "129482       0              0   23               1              192   \n",
       "129483       1              1   49               1             2347   \n",
       "129484       1              0   30               1             1995   \n",
       "129485       0              0   22               1             1000   \n",
       "129486       1              1   27               1             1723   \n",
       "\n",
       "        Inflight wifi service  Departure/Arrival time convenient  \\\n",
       "0                           5                                  4   \n",
       "1                           1                                  1   \n",
       "2                           2                                  0   \n",
       "3                           0                                  0   \n",
       "4                           2                                  3   \n",
       "...                       ...                                ...   \n",
       "129482                      2                                  1   \n",
       "129483                      4                                  4   \n",
       "129484                      1                                  1   \n",
       "129485                      1                                  1   \n",
       "129486                      1                                  3   \n",
       "\n",
       "        Ease of Online booking  Gate location  Food and drink  ...  \\\n",
       "0                            3              4               3  ...   \n",
       "1                            3              1               5  ...   \n",
       "2                            2              4               2  ...   \n",
       "3                            0              2               3  ...   \n",
       "4                            4              3               4  ...   \n",
       "...                        ...            ...             ...  ...   \n",
       "129482                       2              3               2  ...   \n",
       "129483                       4              4               2  ...   \n",
       "129484                       1              3               4  ...   \n",
       "129485                       1              5               1  ...   \n",
       "129486                       3              3               1  ...   \n",
       "\n",
       "        Baggage handling  Checkin service  Inflight service  Cleanliness  \\\n",
       "0                      5                2                 5            5   \n",
       "1                      4                3                 4            5   \n",
       "2                      3                2                 2            2   \n",
       "3                      1                3                 1            4   \n",
       "4                      2                4                 2            4   \n",
       "...                  ...              ...               ...          ...   \n",
       "129482                 4                2                 3            2   \n",
       "129483                 5                5                 5            4   \n",
       "129484                 4                5                 5            4   \n",
       "129485                 1                5                 4            1   \n",
       "129486                 4                4                 3            1   \n",
       "\n",
       "        Departure Delay in Minutes  Arrival Delay in Minutes  satisfaction  \\\n",
       "0                               50                      44.0             0   \n",
       "1                                0                       0.0             0   \n",
       "2                                0                       0.0             1   \n",
       "3                                0                       6.0             0   \n",
       "4                                0                      20.0             0   \n",
       "...                            ...                       ...           ...   \n",
       "129482                           3                       0.0             1   \n",
       "129483                           0                       0.0             0   \n",
       "129484                           7                      14.0             1   \n",
       "129485                           0                       0.0             1   \n",
       "129486                           0                       0.0             1   \n",
       "\n",
       "        Business  Eco  Eco Plus  \n",
       "0              0    1         0  \n",
       "1              1    0         0  \n",
       "2              0    1         0  \n",
       "3              1    0         0  \n",
       "4              0    1         0  \n",
       "...          ...  ...       ...  \n",
       "129482         0    1         0  \n",
       "129483         1    0         0  \n",
       "129484         1    0         0  \n",
       "129485         0    1         0  \n",
       "129486         1    0         0  \n",
       "\n",
       "[129487 rows x 25 columns]"
      ]
     },
     "execution_count": 12,
     "metadata": {},
     "output_type": "execute_result"
    }
   ],
   "source": [
    "# Drop NAs from dataset (only 393 rows were lost)\n",
    "survey = survey_data.dropna()\n",
    "survey['Gender'] = survey['Gender'].eq('Male').mul(1)\n",
    "survey['Customer Type'] = survey['Customer Type'].eq('Loyal Customer').mul(1)\n",
    "survey['Type of Travel'] = survey['Type of Travel'].eq('Business travel').mul(1)\n",
    "survey['satisfaction'] = survey['satisfaction'].eq('neutral or dissatisfied').mul(1)\n",
    "\n",
    "# Creating Dummy Variables for the variable that has more than 2 categorical responses\n",
    "dummies = pd.get_dummies(survey['Class'])\n",
    "\n",
    "# Joins the Dataset with the dummy variables \n",
    "survey = pd.concat([survey, dummies], axis=1)\n",
    "\n",
    "# Drops Columns with Dummy variables \n",
    "survey = survey.drop(['Class', 'Unnamed: 0', 'id'], axis = 1)\n",
    "\n",
    "# Resets Index\n",
    "survey = survey.reset_index(drop=True)\n",
    "\n",
    "survey"
   ]
  },
  {
   "cell_type": "code",
   "execution_count": 13,
   "metadata": {},
   "outputs": [
    {
     "data": {
      "text/plain": [
       "1    73225\n",
       "0    56262\n",
       "Name: satisfaction, dtype: int64"
      ]
     },
     "execution_count": 13,
     "metadata": {},
     "output_type": "execute_result"
    }
   ],
   "source": [
    "survey[\"satisfaction\"].value_counts()"
   ]
  },
  {
   "cell_type": "markdown",
   "metadata": {},
   "source": [
    "This is the same as before it was clean, so it is safe to say the data was correctly cleaned."
   ]
  },
  {
   "cell_type": "markdown",
   "metadata": {},
   "source": [
    "## Splitting Prediction Variable from dataset\n",
    "- X = Dataset with all Independent Variables \n",
    "- y = The Dependent Variable of Customer Satisfaction "
   ]
  },
  {
   "cell_type": "code",
   "execution_count": 14,
   "metadata": {},
   "outputs": [],
   "source": [
    "y = survey[\"satisfaction\"]\n",
    "X = survey.drop(\"satisfaction\", axis=1)"
   ]
  },
  {
   "cell_type": "code",
   "execution_count": 15,
   "metadata": {},
   "outputs": [
    {
     "data": {
      "text/plain": [
       "1    73225\n",
       "0    56262\n",
       "Name: satisfaction, dtype: int64"
      ]
     },
     "execution_count": 15,
     "metadata": {},
     "output_type": "execute_result"
    }
   ],
   "source": [
    "y.value_counts()"
   ]
  },
  {
   "cell_type": "code",
   "execution_count": 16,
   "metadata": {},
   "outputs": [],
   "source": [
    "# Splitting data into training and testing set \n",
    "X_train, X_test, y_train, y_test = train_test_split(X, y, test_size=0.2)"
   ]
  },
  {
   "cell_type": "markdown",
   "metadata": {},
   "source": [
    "### Stacking Models to create Baseline Metrics to evaluate with"
   ]
  },
  {
   "cell_type": "code",
   "execution_count": 17,
   "metadata": {},
   "outputs": [],
   "source": [
    "# get a stacking ensemble of models\n",
    "def get_stacking():\n",
    "    # define the base models\n",
    "    level0 = list()\n",
    "    level0.append(('lr', BaggingClassifier(base_estimator=LogisticRegression())))\n",
    "    #level0.append(('knn', BaggingClassifier(base_estimator=KNeighborsClassifier())))\n",
    "    level0.append(('tree', BaggingClassifier(base_estimator=DecisionTreeClassifier())))\n",
    "    level0.append(('forest', BaggingClassifier(base_estimator=RandomForestClassifier())))\n",
    "    #level0.append(('svm', BaggingClassifier(base_estimator=SVC())))\n",
    "    level0.append(('bayes', BaggingClassifier(base_estimator=GaussianNB())))\n",
    "    level0.append(('adaboost', BaggingClassifier(base_estimator=AdaBoostClassifier())))\n",
    "    level0.append(('gradboost', BaggingClassifier(base_estimator=GradientBoostingClassifier())))\n",
    "    level0.append(('xgboost', BaggingClassifier(base_estimator=XGBClassifier())))\n",
    "    # define meta learner model\n",
    "    level1 = LogisticRegression()\n",
    "    # define the stacking ensemble\n",
    "    model = StackingClassifier(estimators=level0, final_estimator=level1, cv=5, passthrough = False)\n",
    "    return model\n",
    "# passthrough is used for the stacking to take the og dataset instead of just the other model results\n",
    "\n",
    "# get a list of models to evaluate\n",
    "def get_models():\n",
    "    models = dict()\n",
    "    models['lr'] = LogisticRegression()\n",
    "    #models['knn'] = KNeighborsClassifier()\n",
    "    models['tree'] = DecisionTreeClassifier()\n",
    "    models['forest'] = RandomForestClassifier()\n",
    "    #models['svm'] = SVC()\n",
    "    models['bayes'] = GaussianNB()\n",
    "    models['adaboost'] = AdaBoostClassifier()\n",
    "    models['gradboost'] = GradientBoostingClassifier()\n",
    "    models['xgboost'] = XGBClassifier()\n",
    "    models['stacking'] = get_stacking()\n",
    "    return models\n",
    "\n",
    "# evaluate a given model using cross-validation\n",
    "def evaluate_model(model, X, y):\n",
    "    cv = RepeatedStratifiedKFold(n_splits=10, n_repeats=3, random_state=1)\n",
    "    scores = cross_val_score(model, X, y, scoring='accuracy', cv=cv, n_jobs=-1, error_score='raise')\n",
    "    return scores\n",
    "\n",
    "# get the models to evaluate\n",
    "models = get_models()"
   ]
  },
  {
   "cell_type": "code",
   "execution_count": null,
   "metadata": {
    "scrolled": true
   },
   "outputs": [
    {
     "name": "stdout",
     "output_type": "stream",
     "text": [
      ">lr 0.791 (0.015)\n",
      ">tree 0.947 (0.002)\n",
      ">forest 0.963 (0.002)\n",
      ">bayes 0.849 (0.003)\n",
      ">adaboost 0.927 (0.002)\n",
      ">gradboost 0.942 (0.002)\n",
      ">xgboost 0.964 (0.002)\n"
     ]
    }
   ],
   "source": [
    "# evaluate the models and store results\n",
    "results, names = list(), list()\n",
    "for name, model in models.items():\n",
    "    scores = evaluate_model(model, X, y)\n",
    "    results.append(scores)\n",
    "    names.append(name)\n",
    "    print('>%s %.3f (%.3f)' % (name, mean(scores), std(scores)))"
   ]
  },
  {
   "cell_type": "markdown",
   "metadata": {},
   "source": [
    "As we can see the models are performing rather well. I did not let it finish with the Stacking model because it was taking too long to run, even after simplifying the model. \n",
    "\n",
    "We can see that the best models are The XG Boost and Random Forest. Both of these models achieved accuracies of over 95%. Most of the other models were able ot achieve accuracies over 90%. Only the Logistic Regression and Naive Bayes did not get over 85%. \n",
    "\n",
    "I started off with Bagging the models to try to boost model performance. However, this was taking so long, so I changed 'passthrough = False' so the stacked model will just look at the previous model outputs instead of looking at the whole dataset. I also made the level 1 Stacked model be a Logistic Regression model. Both of these steps were taken to reduce compute time, as the final stacked model would take too long to run. This still took to long to run though.\n",
    "\n",
    "I decided to run stacking again without bagging the models to see if would run faster and if the results would change at all. To my surprise, the models had the exact same Accuracies and Standard Deviation Scores. I dropped this from the report to have less clutter. Bagging is used to reduce variance within a noisy dataset. This may be because there is no variance in the data. I will run a Levene Test next to test the variance in the Data."
   ]
  },
  {
   "cell_type": "code",
   "execution_count": 18,
   "metadata": {},
   "outputs": [
    {
     "name": "stdout",
     "output_type": "stream",
     "text": [
      "LeveneResult(statistic=0.3039986613017821, pvalue=0.5813873622704643)\n",
      "LeveneResult(statistic=1.1947873642607052, pvalue=0.2743680443711728)\n",
      "LeveneResult(statistic=1.3390838470191218, pvalue=0.2471979700749689)\n"
     ]
    }
   ],
   "source": [
    "# Runs A Levene Test to test variance in Customer Satisfaction\n",
    "from scipy.stats import levene\n",
    "a = levene(y_test, y_train)\n",
    "b = levene(y_test, y_train, center=\"mean\")\n",
    "c = levene(y_test, y_train, center=\"trimmed\")\n",
    "print(a)\n",
    "print(b)\n",
    "print(c)"
   ]
  },
  {
   "cell_type": "markdown",
   "metadata": {},
   "source": [
    "We can see ethat the P-value for each method does not ever drop below 0.05. This means we do not have sufficient evidence to say that the variance in Customer Satisfaction is significantly different. Because of this Bagging models will not be used.\n",
    "\n",
    "Next I will examine the Precision and Recall (instead of just the accuracy) of the models to see which is the best at classifying Customer Satisfaction. "
   ]
  },
  {
   "cell_type": "markdown",
   "metadata": {},
   "source": [
    "## Checking Model Accuracy, Recall and Precision"
   ]
  },
  {
   "cell_type": "markdown",
   "metadata": {},
   "source": [
    "We will be looking at the:\n",
    "- Precision or proportion of positive identifications (Satisfied Customer) that are actually correct \n",
    "- Recall or proportion of actual positives (Satisfied Customer) that were identified correctly"
   ]
  },
  {
   "cell_type": "code",
   "execution_count": 19,
   "metadata": {},
   "outputs": [],
   "source": [
    "# This creates a Function that will Evalutate the models, by looking at Accuracy, Recall, Precision and ROC Curve\n",
    "# This will be helpful in seeing how well the target class is being predicted \n",
    "def model_eval(model, X_test, y_test):\n",
    "    assert len(X_test) == len(y_test), \"X_test and y_test are not equal in size.\"\n",
    "    \n",
    "    y_pred = model.predict(X_test)\n",
    "    y_pred_prob = model.predict_proba(X_test)[::, 1]\n",
    "    print(confusion_matrix(y_test, y_pred))\n",
    "    print(classification_report(y_pred, y_test))\n",
    "    \n",
    "    fpr, tpr, _ = roc_curve(y_test, y_pred_prob)\n",
    "    auc = roc_auc_score(y_test, y_pred_prob)\n",
    "    plt.plot(fpr, tpr, label=f'AUC: {round(auc, 3)}')\n",
    "    plt.legend()\n",
    "    plt.show()"
   ]
  },
  {
   "cell_type": "code",
   "execution_count": 20,
   "metadata": {},
   "outputs": [
    {
     "name": "stdout",
     "output_type": "stream",
     "text": [
      "[[ 8354  2938]\n",
      " [ 2649 11957]]\n",
      "              precision    recall  f1-score   support\n",
      "\n",
      "           0       0.74      0.76      0.75     11003\n",
      "           1       0.82      0.80      0.81     14895\n",
      "\n",
      "    accuracy                           0.78     25898\n",
      "   macro avg       0.78      0.78      0.78     25898\n",
      "weighted avg       0.79      0.78      0.78     25898\n",
      "\n"
     ]
    },
    {
     "data": {
      "image/png": "[encoded data removed]",
      "text/plain": [
       "<Figure size 432x288 with 1 Axes>"
      ]
     },
     "metadata": {
      "needs_background": "light"
     },
     "output_type": "display_data"
    }
   ],
   "source": [
    "log_model = LogisticRegression()\n",
    "log_model.fit(X_train, y_train)\n",
    "model_eval(log_model, X_test, y_test)"
   ]
  },
  {
   "cell_type": "markdown",
   "metadata": {},
   "source": [
    "The Logistic Regression model did not perform too well. It's accuracy did not reach above 80%. Its precision is under 80% as well, and its recall is only 83%. Overall, this model is alright, but others should be explored."
   ]
  },
  {
   "cell_type": "code",
   "execution_count": 21,
   "metadata": {},
   "outputs": [
    {
     "name": "stdout",
     "output_type": "stream",
     "text": [
      "[[ 7587  3705]\n",
      " [ 2760 11846]]\n",
      "              precision    recall  f1-score   support\n",
      "\n",
      "           0       0.67      0.73      0.70     10347\n",
      "           1       0.81      0.76      0.79     15551\n",
      "\n",
      "    accuracy                           0.75     25898\n",
      "   macro avg       0.74      0.75      0.74     25898\n",
      "weighted avg       0.76      0.75      0.75     25898\n",
      "\n"
     ]
    },
    {
     "data": {
      "image/png": "[encoded data removed]",
      "text/plain": [
       "<Figure size 432x288 with 1 Axes>"
      ]
     },
     "metadata": {
      "needs_background": "light"
     },
     "output_type": "display_data"
    }
   ],
   "source": [
    "knn_model = KNeighborsClassifier()\n",
    "knn_model.fit(X_train, y_train)\n",
    "model_eval(knn_model, X_test, y_test)"
   ]
  },
  {
   "cell_type": "markdown",
   "metadata": {},
   "source": [
    "The KNN Model perfromed slightly worse than the Logistic Model. It has a higher Precision, but its recall and accuracy are much worse. This model will not be explored further."
   ]
  },
  {
   "cell_type": "code",
   "execution_count": 22,
   "metadata": {},
   "outputs": [
    {
     "name": "stdout",
     "output_type": "stream",
     "text": [
      "[[10644   648]\n",
      " [  700 13906]]\n",
      "              precision    recall  f1-score   support\n",
      "\n",
      "           0       0.94      0.94      0.94     11344\n",
      "           1       0.95      0.96      0.95     14554\n",
      "\n",
      "    accuracy                           0.95     25898\n",
      "   macro avg       0.95      0.95      0.95     25898\n",
      "weighted avg       0.95      0.95      0.95     25898\n",
      "\n"
     ]
    },
    {
     "data": {
      "image/png": "[encoded data removed]",
      "text/plain": [
       "<Figure size 432x288 with 1 Axes>"
      ]
     },
     "metadata": {
      "needs_background": "light"
     },
     "output_type": "display_data"
    }
   ],
   "source": [
    "tree_model = DecisionTreeClassifier()\n",
    "tree_model.fit(X_train, y_train)\n",
    "model_eval(tree_model, X_test, y_test)"
   ]
  },
  {
   "cell_type": "markdown",
   "metadata": {},
   "source": [
    "The base Decision Tree model was able to achieve an accuracy, precision and recall of 95%. This are very good results and it means the model is performing well. This model should be explored more later. "
   ]
  },
  {
   "cell_type": "code",
   "execution_count": 23,
   "metadata": {},
   "outputs": [
    {
     "name": "stdout",
     "output_type": "stream",
     "text": [
      "[[10622   670]\n",
      " [  314 14292]]\n",
      "              precision    recall  f1-score   support\n",
      "\n",
      "           0       0.94      0.97      0.96     10936\n",
      "           1       0.98      0.96      0.97     14962\n",
      "\n",
      "    accuracy                           0.96     25898\n",
      "   macro avg       0.96      0.96      0.96     25898\n",
      "weighted avg       0.96      0.96      0.96     25898\n",
      "\n"
     ]
    },
    {
     "data": {
      "image/png": "[encoded data removed]",
      "text/plain": [
       "<Figure size 432x288 with 1 Axes>"
      ]
     },
     "metadata": {
      "needs_background": "light"
     },
     "output_type": "display_data"
    }
   ],
   "source": [
    "forest_model = RandomForestClassifier()\n",
    "forest_model.fit(X_train, y_train)\n",
    "model_eval(forest_model, X_test, y_test)"
   ]
  },
  {
   "cell_type": "markdown",
   "metadata": {},
   "source": [
    "The Random Forest Model outperformed the Decision Tree. It's precision was 98%, meaning its is 98% correct with identifying Customer Satisfaction. Its recall is 96%, meaning that 96% of actual positives customer satisfactions were identified correctly. Overall, the accuracy is only 1% better than the decision tree model, but it is still better. This Model will be explored further. "
   ]
  },
  {
   "cell_type": "code",
   "execution_count": 24,
   "metadata": {},
   "outputs": [],
   "source": [
    "# Takes too Long to Run\n",
    "#svc_model = SVC()\n",
    "#svc_model.fit(X_train, y_train)\n",
    "#model_eval(svc_model, X_test, y_test)"
   ]
  },
  {
   "cell_type": "code",
   "execution_count": 25,
   "metadata": {},
   "outputs": [
    {
     "name": "stdout",
     "output_type": "stream",
     "text": [
      "[[ 9116  2176]\n",
      " [ 1768 12838]]\n",
      "              precision    recall  f1-score   support\n",
      "\n",
      "           0       0.81      0.84      0.82     10884\n",
      "           1       0.88      0.86      0.87     15014\n",
      "\n",
      "    accuracy                           0.85     25898\n",
      "   macro avg       0.84      0.85      0.84     25898\n",
      "weighted avg       0.85      0.85      0.85     25898\n",
      "\n"
     ]
    },
    {
     "data": {
      "image/png": "[encoded data removed]",
      "text/plain": [
       "<Figure size 432x288 with 1 Axes>"
      ]
     },
     "metadata": {
      "needs_background": "light"
     },
     "output_type": "display_data"
    }
   ],
   "source": [
    "nb_model = GaussianNB()\n",
    "nb_model.fit(X_train, y_train)\n",
    "model_eval(nb_model, X_test, y_test)"
   ]
  },
  {
   "cell_type": "code",
   "execution_count": 26,
   "metadata": {},
   "outputs": [
    {
     "name": "stdout",
     "output_type": "stream",
     "text": [
      "[[6772 4520]\n",
      " [5747 8859]]\n",
      "              precision    recall  f1-score   support\n",
      "\n",
      "           0       0.60      0.54      0.57     12519\n",
      "           1       0.61      0.66      0.63     13379\n",
      "\n",
      "    accuracy                           0.60     25898\n",
      "   macro avg       0.60      0.60      0.60     25898\n",
      "weighted avg       0.60      0.60      0.60     25898\n",
      "\n"
     ]
    },
    {
     "data": {
      "image/png": "[encoded data removed]",
      "text/plain": [
       "<Figure size 432x288 with 1 Axes>"
      ]
     },
     "metadata": {
      "needs_background": "light"
     },
     "output_type": "display_data"
    }
   ],
   "source": [
    "nb_model = ComplementNB()\n",
    "nb_model.fit(X_train, y_train)\n",
    "model_eval(nb_model, X_test, y_test)"
   ]
  },
  {
   "cell_type": "code",
   "execution_count": 27,
   "metadata": {},
   "outputs": [
    {
     "name": "stdout",
     "output_type": "stream",
     "text": [
      "[[ 8920  2372]\n",
      " [ 3517 11089]]\n",
      "              precision    recall  f1-score   support\n",
      "\n",
      "           0       0.79      0.72      0.75     12437\n",
      "           1       0.76      0.82      0.79     13461\n",
      "\n",
      "    accuracy                           0.77     25898\n",
      "   macro avg       0.77      0.77      0.77     25898\n",
      "weighted avg       0.77      0.77      0.77     25898\n",
      "\n"
     ]
    },
    {
     "data": {
      "image/png": "[encoded data removed]",
      "text/plain": [
       "<Figure size 432x288 with 1 Axes>"
      ]
     },
     "metadata": {
      "needs_background": "light"
     },
     "output_type": "display_data"
    }
   ],
   "source": [
    "nb_model = BernoulliNB()\n",
    "nb_model.fit(X_train, y_train)\n",
    "model_eval(nb_model, X_test, y_test)"
   ]
  },
  {
   "cell_type": "markdown",
   "metadata": {},
   "source": [
    "Overall, the Naive Bayes Models did not perform as well as previous models. Complement was the worst performing, while Gaussian was the best. In fact, Gaussian was the only Naive Bayes model to have an accuracy and precision above 85%. These models will not be examined further as there are better performing models. "
   ]
  },
  {
   "cell_type": "code",
   "execution_count": 28,
   "metadata": {},
   "outputs": [
    {
     "name": "stdout",
     "output_type": "stream",
     "text": [
      "[[10218  1074]\n",
      " [  863 13743]]\n",
      "              precision    recall  f1-score   support\n",
      "\n",
      "           0       0.90      0.92      0.91     11081\n",
      "           1       0.94      0.93      0.93     14817\n",
      "\n",
      "    accuracy                           0.93     25898\n",
      "   macro avg       0.92      0.92      0.92     25898\n",
      "weighted avg       0.93      0.93      0.93     25898\n",
      "\n"
     ]
    },
    {
     "data": {
      "image/png": "[encoded data removed]",
      "text/plain": [
       "<Figure size 432x288 with 1 Axes>"
      ]
     },
     "metadata": {
      "needs_background": "light"
     },
     "output_type": "display_data"
    }
   ],
   "source": [
    "adab_model = AdaBoostClassifier()\n",
    "adab_model.fit(X_train, y_train)\n",
    "model_eval(adab_model, X_test, y_test)"
   ]
  },
  {
   "cell_type": "markdown",
   "metadata": {},
   "source": [
    "The Adaptive Boost Model performs well, with an overall acuray of 93%. However, it is not as good as the Decision tree or Randome Forest models. "
   ]
  },
  {
   "cell_type": "code",
   "execution_count": 29,
   "metadata": {},
   "outputs": [
    {
     "name": "stdout",
     "output_type": "stream",
     "text": [
      "[[10355   937]\n",
      " [  618 13988]]\n",
      "              precision    recall  f1-score   support\n",
      "\n",
      "           0       0.92      0.94      0.93     10973\n",
      "           1       0.96      0.94      0.95     14925\n",
      "\n",
      "    accuracy                           0.94     25898\n",
      "   macro avg       0.94      0.94      0.94     25898\n",
      "weighted avg       0.94      0.94      0.94     25898\n",
      "\n"
     ]
    },
    {
     "data": {
      "image/png": "[encoded data removed]",
      "text/plain": [
       "<Figure size 432x288 with 1 Axes>"
      ]
     },
     "metadata": {
      "needs_background": "light"
     },
     "output_type": "display_data"
    }
   ],
   "source": [
    "grad_model = GradientBoostingClassifier()\n",
    "grad_model.fit(X_train, y_train)\n",
    "model_eval(grad_model, X_test, y_test)"
   ]
  },
  {
   "cell_type": "markdown",
   "metadata": {},
   "source": [
    "The Gradient Boosted Model performs well, with an overall accuracy of 94%. This is better than the Adaptive Boost model, but only by a 2 percent. Overall, there are better models to predict with. "
   ]
  },
  {
   "cell_type": "code",
   "execution_count": 30,
   "metadata": {},
   "outputs": [
    {
     "name": "stdout",
     "output_type": "stream",
     "text": [
      "[[10659   633]\n",
      " [  304 14302]]\n",
      "              precision    recall  f1-score   support\n",
      "\n",
      "           0       0.94      0.97      0.96     10963\n",
      "           1       0.98      0.96      0.97     14935\n",
      "\n",
      "    accuracy                           0.96     25898\n",
      "   macro avg       0.96      0.96      0.96     25898\n",
      "weighted avg       0.96      0.96      0.96     25898\n",
      "\n"
     ]
    },
    {
     "data": {
      "image/png": "[encoded data removed]",
      "text/plain": [
       "<Figure size 432x288 with 1 Axes>"
      ]
     },
     "metadata": {
      "needs_background": "light"
     },
     "output_type": "display_data"
    }
   ],
   "source": [
    "xgb_model = XGBClassifier()\n",
    "xgb_model.fit(X_train, y_train)\n",
    "model_eval(xgb_model, X_test, y_test)"
   ]
  },
  {
   "cell_type": "markdown",
   "metadata": {},
   "source": [
    "The XG Boost Model is performing as well as the Random Forest Model. The only difference is AUC is 0.995 for the XG Boost, while the Randome Forest AUC is 0.994. This is an incredibly small difference, so overall, these Models are very similar. This means that the Random Forest and XG Boost Models are the best models for predicting Customer Satisfaction. "
   ]
  },
  {
   "cell_type": "markdown",
   "metadata": {},
   "source": [
    "## Final Model"
   ]
  },
  {
   "cell_type": "markdown",
   "metadata": {},
   "source": [
    "I will now Stack all the models that achieved an Accuracy, Precision, and Recall metrics over 90%. This will hopefully make a superior model."
   ]
  },
  {
   "cell_type": "code",
   "execution_count": 37,
   "metadata": {},
   "outputs": [],
   "source": [
    "# get a stacking ensemble of models\n",
    "def get_stacking():\n",
    "    # define the base models\n",
    "    level0 = list()\n",
    "    level0.append(('tree', DecisionTreeClassifier()))\n",
    "    level0.append(('forest', RandomForestClassifier()))\n",
    "    level0.append(('adaboost', AdaBoostClassifier()))\n",
    "    level0.append(('gradboost', GradientBoostingClassifier()))\n",
    "    level0.append(('xgboost', XGBClassifier()))\n",
    "    # define meta learner model\n",
    "    level1 = DecisionTreeClassifier()\n",
    "    # define the stacking ensemble\n",
    "    model = StackingClassifier(estimators=level0, final_estimator=level1, cv=5, passthrough = False)\n",
    "    return model\n",
    "# passthrough is used for the stacking to take the og dataset instead of just the other model results\n",
    "\n",
    "# get a list of models to evaluate\n",
    "def get_models():\n",
    "    models = dict()\n",
    "    models['tree'] = DecisionTreeClassifier()\n",
    "    models['forest'] = RandomForestClassifier()\n",
    "    models['adaboost'] = AdaBoostClassifier()\n",
    "    models['gradboost'] = GradientBoostingClassifier()\n",
    "    models['xgboost'] = XGBClassifier()\n",
    "    models['stacking'] = get_stacking()\n",
    "    return models\n",
    "\n",
    "# get the models to evaluate\n",
    "models = get_models()"
   ]
  },
  {
   "cell_type": "code",
   "execution_count": 39,
   "metadata": {},
   "outputs": [
    {
     "name": "stdout",
     "output_type": "stream",
     "text": [
      "[[10700   592]\n",
      " [  301 14305]]\n",
      "              precision    recall  f1-score   support\n",
      "\n",
      "           0       0.95      0.97      0.96     11001\n",
      "           1       0.98      0.96      0.97     14897\n",
      "\n",
      "    accuracy                           0.97     25898\n",
      "   macro avg       0.96      0.97      0.96     25898\n",
      "weighted avg       0.97      0.97      0.97     25898\n",
      "\n"
     ]
    },
    {
     "data": {
      "image/png": "[encoded data removed]",
      "text/plain": [
       "<Figure size 432x288 with 1 Axes>"
      ]
     },
     "metadata": {
      "needs_background": "light"
     },
     "output_type": "display_data"
    }
   ],
   "source": [
    "stack = models['stacking']\n",
    "stack = stack.fit(X_train, y_train)\n",
    "model_eval(stack, X_test, y_test)"
   ]
  },
  {
   "cell_type": "markdown",
   "metadata": {},
   "source": [
    "I first tried to stack just the Random Forest and XG Boost Models as they were the only model to achieve accuracies above 95%. However, the stacked model had almost the same measurements. This led me to stack all models above 90% accuracy. \n",
    "\n",
    "To my surprise, the Model accuracy is 97%. This only went up by 1%, compared to the XG Boost and Random Forest Models, which had an accuracy of 96%. The Precision is 98%, meaning its is 98% correct with identifying Customer Satisfaction. Its recall is 96%, meaning that 96% of actual positives customer satisfactions were identified correctly. These were the same Precision and Recall scores that the Random Forest and XG Boost Models. \n",
    "The other improvement in this Stacked model is the Precision for Non-Satisfied Customers. It is 95%. This is a 1% increase compared to the Random Forest and XG Boost Models.\n",
    "\n",
    "Overall, the Stacked Model is an imporved model, just not by much."
   ]
  },
  {
   "cell_type": "markdown",
   "metadata": {},
   "source": [
    "# Feature Importance"
   ]
  },
  {
   "cell_type": "markdown",
   "metadata": {},
   "source": [
    "I first tried to run this Feature Importance code with the Stacked Model, however, it is not able to work with a Stacking Classifier. Because of this, I decided to look at the Feature Importance for the 2 Models that performed the best, ie the Random Forest and XG Boost Models. These two models had the closest performance metrics to the Stacked model, so their feature importance should reflect the Stacked Models Feature Importance.\n",
    "\n",
    "The below figures show the features ranked according to the explained variance each feature contributes to the model. In this case the features are plotted against their relative importance, that is the percent importance of the most important feature. So the larger the coefficient is, the more influence it has on a prediction."
   ]
  },
  {
   "cell_type": "code",
   "execution_count": 43,
   "metadata": {},
   "outputs": [
    {
     "data": {
      "image/png": "[encoded data removed]",
      "text/plain": [
       "<Figure size 576x576 with 1 Axes>"
      ]
     },
     "metadata": {
      "needs_background": "light"
     },
     "output_type": "display_data"
    }
   ],
   "source": [
    "# Get Feature importance data using feature_importances_ attribute\n",
    "\n",
    "feature_importance = forest_model.feature_importances_\n",
    "sorted_idx = np.argsort(feature_importance)\n",
    "pos = np.arange(sorted_idx.shape[0]) + .5\n",
    "fig = plt.figure(figsize=(8, 8))\n",
    "plt.barh(pos, feature_importance[sorted_idx], align='center')\n",
    "\n",
    "plt.yticks(pos, np.array(X.columns)[sorted_idx])\n",
    "plt.title('Feature Importance obtained from coefficients')\n",
    "result = permutation_importance(forest_model, X_test, y_test, n_repeats=10,\n",
    "                                random_state=42, n_jobs=2)\n",
    "sorted_idx = result.importances_mean.argsort()\n",
    "plt.axvline(x = 0.05, color = 'r')\n",
    "fig.tight_layout()\n",
    "plt.show()"
   ]
  },
  {
   "cell_type": "markdown",
   "metadata": {},
   "source": [
    "The Top 5 Most Important Features for the Random Forest Model were:\n",
    "- Online Boarding\n",
    "- Inflight Wifi Service\n",
    "- Type of Travel was for Business\n",
    "- If they were in Business Class\n",
    "- Inflight entertainment"
   ]
  },
  {
   "cell_type": "code",
   "execution_count": 42,
   "metadata": {},
   "outputs": [
    {
     "data": {
      "image/png": "[encoded data removed]",
      "text/plain": [
       "<Figure size 576x576 with 1 Axes>"
      ]
     },
     "metadata": {
      "needs_background": "light"
     },
     "output_type": "display_data"
    }
   ],
   "source": [
    "# Get Feature importance data using feature_importances_ attribute\n",
    "\n",
    "feature_importance = xgb_model.feature_importances_\n",
    "sorted_idx = np.argsort(feature_importance)\n",
    "pos = np.arange(sorted_idx.shape[0]) + .5\n",
    "fig = plt.figure(figsize=(8, 8))\n",
    "plt.barh(pos, feature_importance[sorted_idx], align='center')\n",
    "\n",
    "plt.yticks(pos, np.array(X.columns)[sorted_idx])\n",
    "plt.title('Feature Importance obtained from coefficients')\n",
    "result = permutation_importance(xgb_model, X_test, y_test, n_repeats=10,\n",
    "                                random_state=42, n_jobs=2)\n",
    "sorted_idx = result.importances_mean.argsort()\n",
    "plt.axvline(x = 0.05, color = 'r')\n",
    "fig.tight_layout()\n",
    "plt.show()"
   ]
  },
  {
   "cell_type": "markdown",
   "metadata": {},
   "source": [
    "The Top 5 Most Important Features for the XG Boost Model were:\n",
    "- Online Boarding\n",
    "- Type of Travel was for Business\n",
    "- Inflight Wifi Service\n",
    "- If they were a Loyal Customer\n",
    "- If they were in Business Class"
   ]
  },
  {
   "cell_type": "markdown",
   "metadata": {},
   "source": [
    "From these 2 Models, we can see that they share many important features. \n",
    "\n",
    "Both Models rank Online Boarding as the most important feature. Online Boarding is the process in which passengers confirm their presence on a flight via the Internet and typically print their own boarding passes. So the easier this is to do, the more satisfied the customer will be. We could simiplify the Online Boarding process. This way it will be easier for customers to checkin online. If they still have trouble we could have chatbots to help them through the process online. \n",
    "\n",
    "Business Travel was the second most important feature for the XG Boost model, while it was third for Random Forest. This means if the Type of Travel is for Business, the customers will be more satisfied. Personal travel was the referent variable. We should target more Businesses, and offer discounts or extra miles to people from the same businesses travelling together. \n",
    "\n",
    "Inflight Wifi Service was the second most important feature for the Random Forest, while it was third for XG Boost model. This means that the better the wifi customers have while flying with us, the higher their satisfaction. This may be due to everyone having some kind of wifi enabled device now. People rather be on their own devices that watch the inflight entertainment. Maybe we could add some charging ports under each seat so customers can continue using their devices for longer flights.\n",
    "\n",
    "Business Class was the fourth most important feature for the Random Forest, while it was fifth for XG Boost model. This means that Customers traveling in the Business class of the plane, were more satisfied than customers in the other classes. We could possibly offer discounts or extra miles for customers flying in Business Class. This will help create more demand for these kinds of seats. \n",
    "\n",
    "The Random Forest Model's fifth most important feature was Inflight Entertainment (Sixth for XGB). The better the inflight enterainment, the more satisfied customers will be. Inflight Entertainment should be screens in front of each seat. This way Customers do not have to watch the main feature (Movie) offered in the flight. They will have a range of options to choose from. \n",
    "\n",
    "The fourth most important feature for the XG Boost Model was Customer Loyality. This means the more loyal a customer is to the airline, the more satisfied they will be. We should offer discounts or extra miles to our Loyal Customers. This way we will entice them to keep traveling with us, and possible get more customers to travel with us for the benefits. "
   ]
  }
 ],
 "metadata": {
  "kernelspec": {
   "display_name": "Python 3",
   "language": "python",
   "name": "python3"
  },
  "language_info": {
   "codemirror_mode": {
    "name": "ipython",
    "version": 3
   },
   "file_extension": ".py",
   "mimetype": "text/x-python",
   "name": "python",
   "nbconvert_exporter": "python",
   "pygments_lexer": "ipython3",
   "version": "3.8.3"
  }
 },
 "nbformat": 4,
 "nbformat_minor": 4
}
